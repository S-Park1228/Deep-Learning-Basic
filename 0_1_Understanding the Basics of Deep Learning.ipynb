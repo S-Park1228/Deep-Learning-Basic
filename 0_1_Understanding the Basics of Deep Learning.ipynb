{
 "cells": [
  {
   "cell_type": "code",
   "execution_count": 1,
   "metadata": {},
   "outputs": [],
   "source": [
    "import tensorflow as tf"
   ]
  },
  {
   "cell_type": "code",
   "execution_count": 2,
   "metadata": {},
   "outputs": [
    {
     "name": "stdout",
     "output_type": "stream",
     "text": [
      "2.5.0\n"
     ]
    }
   ],
   "source": [
    "print(tf.__version__)"
   ]
  },
  {
   "cell_type": "code",
   "execution_count": null,
   "metadata": {},
   "outputs": [],
   "source": []
  },
  {
   "cell_type": "markdown",
   "metadata": {},
   "source": [
    "# Understanding TensorFlow 2.0\n",
    "---"
   ]
  },
  {
   "cell_type": "markdown",
   "metadata": {},
   "source": [
    "## Import modules"
   ]
  },
  {
   "cell_type": "code",
   "execution_count": 3,
   "metadata": {},
   "outputs": [],
   "source": [
    "import tensorflow as tf"
   ]
  },
  {
   "cell_type": "markdown",
   "metadata": {},
   "source": [
    "## Loading data"
   ]
  },
  {
   "cell_type": "code",
   "execution_count": 4,
   "metadata": {},
   "outputs": [
    {
     "name": "stdout",
     "output_type": "stream",
     "text": [
      "Downloading data from https://storage.googleapis.com/tensorflow/tf-keras-datasets/mnist.npz\n",
      "11493376/11490434 [==============================] - 1s 0us/step\n"
     ]
    }
   ],
   "source": [
    "mnist = tf.keras.datasets.mnist\n",
    "\n",
    "(x_train, y_train), (x_test, y_test) = mnist.load_data()\n",
    "x_train, x_test = x_train / 255.0, x_test / 255.0"
   ]
  },
  {
   "cell_type": "markdown",
   "metadata": {},
   "source": [
    "## Defining the structure of the network"
   ]
  },
  {
   "cell_type": "code",
   "execution_count": 7,
   "metadata": {},
   "outputs": [],
   "source": [
    "model = tf.keras.models.Sequential([tf.keras.layers.Flatten(input_shape = (28, 28)),\n",
    "                                   tf.keras.layers.Dense(128, activation = 'relu'),\n",
    "                                   tf.keras.layers.Dropout(0.2),\n",
    "                                   tf.keras.layers.Dense(10, activation = 'softmax')])"
   ]
  },
  {
   "cell_type": "markdown",
   "metadata": {},
   "source": [
    "## Compiling the Keras model"
   ]
  },
  {
   "cell_type": "code",
   "execution_count": 8,
   "metadata": {},
   "outputs": [],
   "source": [
    "model.compile(optimizer = 'adam',\n",
    "             loss = 'sparse_categorical_crossentropy',\n",
    "             metrics = ['accuracy'])"
   ]
  },
  {
   "cell_type": "markdown",
   "metadata": {},
   "source": [
    "## Training"
   ]
  },
  {
   "cell_type": "code",
   "execution_count": 9,
   "metadata": {},
   "outputs": [
    {
     "name": "stdout",
     "output_type": "stream",
     "text": [
      "Epoch 1/5\n",
      "1875/1875 [==============================] - 2s 932us/step - loss: 0.2945 - accuracy: 0.9141\n",
      "Epoch 2/5\n",
      "1875/1875 [==============================] - 2s 907us/step - loss: 0.1412 - accuracy: 0.9583\n",
      "Epoch 3/5\n",
      "1875/1875 [==============================] - 2s 915us/step - loss: 0.1064 - accuracy: 0.9674\n",
      "Epoch 4/5\n",
      "1875/1875 [==============================] - 2s 904us/step - loss: 0.0872 - accuracy: 0.9732\n",
      "Epoch 5/5\n",
      "1875/1875 [==============================] - 2s 941us/step - loss: 0.0749 - accuracy: 0.9766\n"
     ]
    },
    {
     "data": {
      "text/plain": [
       "<tensorflow.python.keras.callbacks.History at 0x206598d3c70>"
      ]
     },
     "execution_count": 9,
     "metadata": {},
     "output_type": "execute_result"
    }
   ],
   "source": [
    "model.fit(x_train, y_train, epochs = 5)"
   ]
  },
  {
   "cell_type": "markdown",
   "metadata": {},
   "source": [
    "## Evaluation"
   ]
  },
  {
   "cell_type": "code",
   "execution_count": 11,
   "metadata": {},
   "outputs": [
    {
     "name": "stdout",
     "output_type": "stream",
     "text": [
      "313/313 [==============================] - 0s 590us/step - loss: 0.0793 - accuracy: 0.9764\n"
     ]
    },
    {
     "data": {
      "text/plain": [
       "[0.07929537445306778, 0.9764000177383423]"
      ]
     },
     "execution_count": 11,
     "metadata": {},
     "output_type": "execute_result"
    }
   ],
   "source": [
    "model.evaluate(x_test, y_test)"
   ]
  },
  {
   "cell_type": "code",
   "execution_count": null,
   "metadata": {},
   "outputs": [],
   "source": []
  },
  {
   "cell_type": "markdown",
   "metadata": {},
   "source": [
    "## Implementing Perceptron (OR)"
   ]
  },
  {
   "cell_type": "markdown",
   "metadata": {},
   "source": [
    "Import modules"
   ]
  },
  {
   "cell_type": "code",
   "execution_count": 1,
   "metadata": {},
   "outputs": [],
   "source": [
    "import tensorflow as tf\n",
    "import numpy as np"
   ]
  },
  {
   "cell_type": "markdown",
   "metadata": {},
   "source": [
    "Defining Perceptron Class using TensorFlow"
   ]
  },
  {
   "cell_type": "code",
   "execution_count": 2,
   "metadata": {},
   "outputs": [],
   "source": [
    "class Perceptron:\n",
    "    def __init__(self, w, b):\n",
    "        self.w = tf.Variable(w, dtype = tf.float32)\n",
    "        self.b = tf.Variable(b, dtype = tf.float32)\n",
    "    \n",
    "    def __call__(self, x):\n",
    "        return tf.sign(tf.reduce_sum(self.w * x) + self.b)"
   ]
  },
  {
   "cell_type": "markdown",
   "metadata": {},
   "source": [
    "Utility Function"
   ]
  },
  {
   "cell_type": "code",
   "execution_count": 3,
   "metadata": {},
   "outputs": [],
   "source": [
    "def v(*args):    # '*': automatically recognized as tuple inputs\n",
    "    return np.array(args)"
   ]
  },
  {
   "cell_type": "markdown",
   "metadata": {},
   "source": [
    "Defining a Perceptron"
   ]
  },
  {
   "cell_type": "code",
   "execution_count": 4,
   "metadata": {},
   "outputs": [],
   "source": [
    "w = v(1, 1) # weights\n",
    "b = 0.5 # bias\n",
    "\n",
    "perceptron = Perceptron(w, b)"
   ]
  },
  {
   "cell_type": "markdown",
   "metadata": {},
   "source": [
    "Checking the activation of Perceptrons"
   ]
  },
  {
   "cell_type": "code",
   "execution_count": 5,
   "metadata": {},
   "outputs": [
    {
     "name": "stdout",
     "output_type": "stream",
     "text": [
      "1.0 1.0\n",
      "-1.0 1.0\n"
     ]
    }
   ],
   "source": [
    "p1 = perceptron(v(1, 1)) # T, T\n",
    "p2 = perceptron(v(-1, 1)) # F, T\n",
    "p3 = perceptron(v(-1, -1)) # F, F\n",
    "p4 = perceptron(v(1, -1)) # T, F\n",
    "\n",
    "print(p2.numpy(), p1.numpy())\n",
    "print(p3.numpy(), p4.numpy())"
   ]
  },
  {
   "cell_type": "markdown",
   "metadata": {},
   "source": [
    "## Implementing Perceptron (XOR)"
   ]
  },
  {
   "cell_type": "markdown",
   "metadata": {},
   "source": [
    "Defining a Perceptron"
   ]
  },
  {
   "cell_type": "code",
   "execution_count": 7,
   "metadata": {},
   "outputs": [],
   "source": [
    "p_nand = Perceptron(w = v(-1, -1),\n",
    "                   b = 0.5)\n",
    "\n",
    "p_or = Perceptron(w = v(1, 1),\n",
    "                 b = 0.5)\n",
    "\n",
    "p_and = Perceptron(w = v(1, 1),\n",
    "                  b = -0.5)\n",
    "\n",
    "def xor(x):\n",
    "    h1 = p_nand(x)\n",
    "    h2 = p_or(x)\n",
    "    return p_and(v(h1, h2))"
   ]
  },
  {
   "cell_type": "markdown",
   "metadata": {},
   "source": [
    "Checking the activation of Perceptrons"
   ]
  },
  {
   "cell_type": "code",
   "execution_count": 8,
   "metadata": {},
   "outputs": [
    {
     "name": "stdout",
     "output_type": "stream",
     "text": [
      "1.0 -1.0\n",
      "-1.0 1.0\n"
     ]
    }
   ],
   "source": [
    "p1 = xor(v(1, 1))\n",
    "p2 = xor(v(-1, 1))\n",
    "p3 = xor(v(-1, -1))\n",
    "p4 = xor(v(1, -1))\n",
    "\n",
    "print(p2.numpy(), p1.numpy())\n",
    "print(p3.numpy(), p4.numpy())"
   ]
  },
  {
   "cell_type": "code",
   "execution_count": null,
   "metadata": {},
   "outputs": [],
   "source": []
  },
  {
   "cell_type": "markdown",
   "metadata": {},
   "source": [
    "## Gradient Descent Optimization"
   ]
  },
  {
   "cell_type": "code",
   "execution_count": 1,
   "metadata": {},
   "outputs": [],
   "source": [
    "import numpy as np"
   ]
  },
  {
   "cell_type": "markdown",
   "metadata": {},
   "source": [
    "Loss Function"
   ]
  },
  {
   "cell_type": "code",
   "execution_count": 2,
   "metadata": {},
   "outputs": [],
   "source": [
    "def f(x):\n",
    "    return 0.1 * x**4 - 1.5 * x**3 + 0.6 * x**2 + 1.0 * x + 20.0"
   ]
  },
  {
   "cell_type": "markdown",
   "metadata": {},
   "source": [
    "Derivatives of the Loss Function"
   ]
  },
  {
   "cell_type": "code",
   "execution_count": 8,
   "metadata": {},
   "outputs": [],
   "source": [
    "def df_dx(x):\n",
    "    return 0.4 * x**3 - 4.5 * x**2 + 1.2 * x + 1.0"
   ]
  },
  {
   "cell_type": "markdown",
   "metadata": {},
   "source": [
    "Hyperparameters"
   ]
  },
  {
   "cell_type": "code",
   "execution_count": 4,
   "metadata": {},
   "outputs": [],
   "source": [
    "x = 5 # initial x\n",
    "eps = 1e-5\n",
    "lr = 0.01 # learning rate\n",
    "max_epoch = 1000"
   ]
  },
  {
   "cell_type": "markdown",
   "metadata": {},
   "source": [
    "Implementing Gradient Descent"
   ]
  },
  {
   "cell_type": "code",
   "execution_count": 9,
   "metadata": {},
   "outputs": [],
   "source": [
    "min_x = x\n",
    "min_y = f(min_x)\n",
    "for _ in range(max_epoch):\n",
    "    grad = df_dx(x)\n",
    "    new_x = x - lr * grad\n",
    "    y = f(new_x)\n",
    "    \n",
    "    if min_y > y:\n",
    "        min_x = new_x\n",
    "        min_y = y\n",
    "    \n",
    "    if np.abs(x - new_x) < eps:\n",
    "        break\n",
    "    \n",
    "    x = new_x"
   ]
  },
  {
   "cell_type": "code",
   "execution_count": 10,
   "metadata": {},
   "outputs": [
    {
     "name": "stdout",
     "output_type": "stream",
     "text": [
      "10.955323272631201 -428.84677390087836\n"
     ]
    }
   ],
   "source": [
    "print(min_x, min_y)"
   ]
  },
  {
   "cell_type": "markdown",
   "metadata": {},
   "source": [
    "What if start from x = -5?"
   ]
  },
  {
   "cell_type": "code",
   "execution_count": 11,
   "metadata": {},
   "outputs": [],
   "source": [
    "x = -5 # initial x\n",
    "eps = 1e-5\n",
    "lr = 0.01 # learning rate\n",
    "max_epoch = 1000"
   ]
  },
  {
   "cell_type": "code",
   "execution_count": 12,
   "metadata": {},
   "outputs": [],
   "source": [
    "min_x = x\n",
    "min_y = f(min_x)\n",
    "for _ in range(max_epoch):\n",
    "    grad = df_dx(x)\n",
    "    new_x = x - lr * grad\n",
    "    y = f(new_x)\n",
    "    \n",
    "    if min_y > y:\n",
    "        min_x = new_x\n",
    "        min_y = y\n",
    "    \n",
    "    if np.abs(x - new_x) < eps:\n",
    "        break\n",
    "    \n",
    "    x = new_x"
   ]
  },
  {
   "cell_type": "code",
   "execution_count": 13,
   "metadata": {},
   "outputs": [
    {
     "name": "stdout",
     "output_type": "stream",
     "text": [
      "-0.35277896788817237 19.789298288581236\n"
     ]
    }
   ],
   "source": [
    "print(min_x, min_y)"
   ]
  },
  {
   "cell_type": "markdown",
   "metadata": {},
   "source": [
    "Thus, we need to use improved optimizers."
   ]
  },
  {
   "cell_type": "code",
   "execution_count": null,
   "metadata": {},
   "outputs": [],
   "source": []
  },
  {
   "cell_type": "markdown",
   "metadata": {},
   "source": [
    "## Visualizing the Results of the Algorithm above"
   ]
  },
  {
   "cell_type": "markdown",
   "metadata": {},
   "source": [
    "Implementing Gradient Descent"
   ]
  },
  {
   "cell_type": "code",
   "execution_count": 18,
   "metadata": {},
   "outputs": [],
   "source": [
    "def gradient_descent(initial_x, learning_rate = 0.01, eps = 1e-5, max_epoch = 1000):\n",
    "    x = initial_x\n",
    "    \n",
    "    x_log = [x]\n",
    "    \n",
    "    min_x = x\n",
    "    min_y = f(min_x)\n",
    "    for _ in range(max_epoch):\n",
    "        grad = df_dx(x)\n",
    "        new_x = x - learning_rate * grad\n",
    "        y = f(new_x)\n",
    "        \n",
    "        x_log.append(new_x)\n",
    "        \n",
    "        if min_y > y:\n",
    "            min_x = new_x\n",
    "            min_y = y\n",
    "        \n",
    "        if np.abs(x - new_x) < eps:\n",
    "            break\n",
    "        \n",
    "        x = new_x\n",
    "    return min_x, min_y, x_log"
   ]
  },
  {
   "cell_type": "markdown",
   "metadata": {},
   "source": [
    "Visualizing the Results of the Algorithm"
   ]
  },
  {
   "cell_type": "code",
   "execution_count": 14,
   "metadata": {},
   "outputs": [],
   "source": [
    "import matplotlib.pyplot as plt"
   ]
  },
  {
   "cell_type": "code",
   "execution_count": 26,
   "metadata": {},
   "outputs": [
    {
     "data": {
      "image/png": "[encoded data removed]",
      "text/plain": [
       "<Figure size 432x288 with 1 Axes>"
      ]
     },
     "metadata": {
      "needs_background": "light"
     },
     "output_type": "display_data"
    }
   ],
   "source": [
    "min_x1, min_y1, x_log1 = gradient_descent(initial_x = 5)\n",
    "min_x2, min_y2, x_log2 = gradient_descent(initial_x = -5)\n",
    "min_x3, min_y3, x_log3 = gradient_descent(initial_x = 0)\n",
    "min_x4, min_y4, x_log4 = gradient_descent(initial_x = 15)\n",
    "\n",
    "y_log1 = f(np.array(x_log1)) # list cannot be used as an input for an operation..\n",
    "y_log2 = f(np.array(x_log2))\n",
    "y_log3 = f(np.array(x_log3))\n",
    "y_log4 = f(np.array(x_log4))\n",
    "\n",
    "\n",
    "plt.plot(x_log1, y_log1, '.-')\n",
    "plt.plot(x_log2, y_log2, '.-')\n",
    "plt.plot(x_log3, y_log3, '.-')\n",
    "plt.plot(x_log4, y_log4, '.-')\n",
    "plt.show()"
   ]
  },
  {
   "cell_type": "markdown",
   "metadata": {},
   "source": [
    "What if the learning_rate is too big?"
   ]
  },
  {
   "cell_type": "code",
   "execution_count": 28,
   "metadata": {},
   "outputs": [
    {
     "data": {
      "image/png": "[encoded data removed]",
      "text/plain": [
       "<Figure size 432x288 with 1 Axes>"
      ]
     },
     "metadata": {
      "needs_background": "light"
     },
     "output_type": "display_data"
    }
   ],
   "source": [
    "min_x1, min_y1, x_log1 = gradient_descent(initial_x = 5)\n",
    "min_x2, min_y2, x_log2 = gradient_descent(initial_x = -5)\n",
    "min_x3, min_y3, x_log3 = gradient_descent(initial_x = 0)\n",
    "# If the learning rate is too big, then it cannot be converged (overflow).\n",
    "min_x4, min_y4, x_log4 = gradient_descent(initial_x = 15, learning_rate = 0.05)\n",
    "\n",
    "y_log1 = f(np.array(x_log1)) # list cannot be used as an input for an operation..\n",
    "y_log2 = f(np.array(x_log2))\n",
    "y_log3 = f(np.array(x_log3))\n",
    "y_log4 = f(np.array(x_log4))\n",
    "\n",
    "\n",
    "plt.plot(x_log1, y_log1, '.-')\n",
    "plt.plot(x_log2, y_log2, '.-')\n",
    "plt.plot(x_log3, y_log3, '.-')\n",
    "plt.plot(x_log4, y_log4, '.-')\n",
    "plt.show()"
   ]
  },
  {
   "cell_type": "code",
   "execution_count": null,
   "metadata": {},
   "outputs": [],
   "source": []
  },
  {
   "cell_type": "markdown",
   "metadata": {},
   "source": [
    "## Numerical Gradient Descent without Back Propagation"
   ]
  },
  {
   "cell_type": "code",
   "execution_count": 1,
   "metadata": {},
   "outputs": [],
   "source": [
    "import time\n",
    "import numpy as np"
   ]
  },
  {
   "cell_type": "markdown",
   "metadata": {},
   "source": [
    "Utility Functions"
   ]
  },
  {
   "cell_type": "code",
   "execution_count": 2,
   "metadata": {},
   "outputs": [],
   "source": [
    "epsilon = 0.0001\n",
    "\n",
    "def _t(x):\n",
    "    return np.transpose(x)\n",
    "\n",
    "def _m(A, B):\n",
    "    return np.matmul(A, B)\n",
    "\n",
    "def sigmoid(x):\n",
    "    return 1 / (1 + np.exp(-x))\n",
    "\n",
    "def mean_squared_errors(h, y):\n",
    "    return 1 / 2 * np.mean(np.square(h - y))"
   ]
  },
  {
   "cell_type": "markdown",
   "metadata": {},
   "source": [
    "Dense Layer"
   ]
  },
  {
   "cell_type": "code",
   "execution_count": 3,
   "metadata": {},
   "outputs": [],
   "source": [
    "class Dense:\n",
    "    def __init__(self, W, b, a):\n",
    "        self.W = W\n",
    "        self.b = b\n",
    "        self.a = a\n",
    "        \n",
    "        # space for storing gradient\n",
    "        self.dW = np.zeros_like(self.W) # 'zeros_like': generate the same dtype and size as its input\n",
    "        self.db = np.zeros_like(self.b)\n",
    "        \n",
    "    def __call__(self, x):\n",
    "        return self.a(_m(_t(self.W), x) + self.b)"
   ]
  },
  {
   "cell_type": "markdown",
   "metadata": {},
   "source": [
    "Deep Neural Network"
   ]
  },
  {
   "cell_type": "code",
   "execution_count": 4,
   "metadata": {},
   "outputs": [],
   "source": [
    "class DNN:\n",
    "    def __init__(self, hidden_depth, num_neuron, num_input, num_output, activation = sigmoid):\n",
    "        def init_var(i, o):\n",
    "            return np.random.normal(0.0, 0.01, (i, o)), np.zeros((o,))\n",
    "    \n",
    "        self.sequence = list()\n",
    "        # First Hidden Layer\n",
    "        W, b = init_var(num_input, num_neuron)\n",
    "        self.sequence.append(Dense(W, b, activation))\n",
    "\n",
    "        # Hidden Layers\n",
    "        for _ in range(hidden_depth - 1):\n",
    "            W, b = init_var(num_neuron, num_neuron)\n",
    "            self.sequence.append(Dense(W, b, activation))\n",
    "\n",
    "        # Output Layers\n",
    "        W, b = init_var(num_neuron, num_output)\n",
    "        self.sequence.append(Dense(W, b, activation))\n",
    "\n",
    "    def __call__(self, x):\n",
    "        for layer in self.sequence:\n",
    "            x = layer(x)\n",
    "        return x\n",
    "    \n",
    "    def calc_gradient(self, x, y, loss_func):\n",
    "        def get_new_sequence(layer_index, new_layer):\n",
    "            new_sequence = list()\n",
    "            for i, layer in enumerate(self.sequence):\n",
    "                if i == layer_index:\n",
    "                    new_sequence.append(new_layer)\n",
    "                else:\n",
    "                    new_sequence.append(layer)\n",
    "            return new_sequence\n",
    "        \n",
    "        def eval_sequence(x, sequence):\n",
    "            for layer in sequence:\n",
    "                x = layer(x)\n",
    "            return x\n",
    "        \n",
    "        loss = loss_func(self(x), y)\n",
    "        \n",
    "        for layer_id, layer in enumerate(self.sequence):\n",
    "            for w_i, w in enumerate(layer.W): # for each row\n",
    "                for w_j, ww in enumerate(w): # for each column\n",
    "                    W = np.copy(layer.W)\n",
    "                    W[w_i][w_j] = ww + epsilon\n",
    "                    new_layer = Dense(W, layer.b, layer.a)\n",
    "                    new_seq = get_new_sequence(layer_id, new_layer)\n",
    "                    h = eval_sequence(x, new_seq)\n",
    "                    \n",
    "                    # numerical gradient: (f(x + epsilon) - f(x)) / epsilon\n",
    "                    num_grad = (loss_func(h, y) - loss) / epsilon\n",
    "                    layer.dW[w_i][w_j] = num_grad\n",
    "                    \n",
    "            for b_i, bb in enumerate(layer.b):\n",
    "                b = np.copy(layer.b)\n",
    "                b[b_i] = bb + epsilon\n",
    "                new_layer = Dense(layer.W, b, layer.a)\n",
    "                new_seq = get_new_sequence(layer_id, new_layer)\n",
    "                h = eval_sequence(x, new_seq)\n",
    "                \n",
    "                num_grad = (loss_func(h, y) - loss) / epsilon\n",
    "                layer.db[b_i] = num_grad\n",
    "        \n",
    "        return loss"
   ]
  },
  {
   "cell_type": "markdown",
   "metadata": {},
   "source": [
    "Gradient Descent"
   ]
  },
  {
   "cell_type": "code",
   "execution_count": 5,
   "metadata": {},
   "outputs": [],
   "source": [
    "def gradient_descent(network, x, y, loss_obj, alpha = 0.01):\n",
    "    loss = network.calc_gradient(x, y, loss_obj)\n",
    "    for layer in network.sequence:\n",
    "        layer.W += -alpha * layer.dW\n",
    "        layer.b += -alpha * layer.db\n",
    "    return loss       "
   ]
  },
  {
   "cell_type": "markdown",
   "metadata": {},
   "source": [
    "Test Running"
   ]
  },
  {
   "cell_type": "code",
   "execution_count": 6,
   "metadata": {},
   "outputs": [
    {
     "name": "stdout",
     "output_type": "stream",
     "text": [
      "Epoch 0: Test Loss 0.8953062658720929\n",
      "Epoch 1: Test Loss 0.8902873133520907\n",
      "Epoch 2: Test Loss 0.885293948236327\n",
      "Epoch 3: Test Loss 0.8803278159311777\n",
      "Epoch 4: Test Loss 0.8753905104496811\n",
      "Epoch 5: Test Loss 0.8704835717373229\n",
      "Epoch 6: Test Loss 0.8656084832578721\n",
      "Epoch 7: Test Loss 0.8607666698439795\n",
      "Epoch 8: Test Loss 0.8559594958170391\n",
      "Epoch 9: Test Loss 0.85118826337844\n",
      "Epoch 10: Test Loss 0.8464542112695442\n",
      "Epoch 11: Test Loss 0.8417585137007958\n",
      "Epoch 12: Test Loss 0.8371022795428794\n",
      "Epoch 13: Test Loss 0.8324865517759686\n",
      "Epoch 14: Test Loss 0.827912307188103\n",
      "Epoch 15: Test Loss 0.8233804563146759\n",
      "Epoch 16: Test Loss 0.8188918436073155\n",
      "Epoch 17: Test Loss 0.8144472478225736\n",
      "Epoch 18: Test Loss 0.8100473826166076\n",
      "Epoch 19: Test Loss 0.8056928973336157\n",
      "Epoch 20: Test Loss 0.8013843779740845\n",
      "Epoch 21: Test Loss 0.7971223483288334\n",
      "Epoch 22: Test Loss 0.7929072712647641\n",
      "Epoch 23: Test Loss 0.7887395501473976\n",
      "Epoch 24: Test Loss 0.7846195303861755\n",
      "Epoch 25: Test Loss 0.7805475010881955\n",
      "Epoch 26: Test Loss 0.7765236968061295\n",
      "Epoch 27: Test Loss 0.7725482993667738\n",
      "Epoch 28: Test Loss 0.7686214397668527\n",
      "Epoch 29: Test Loss 0.7647432001236473\n",
      "Epoch 30: Test Loss 0.7609136156679617\n",
      "Epoch 31: Test Loss 0.7571326767678781\n",
      "Epoch 32: Test Loss 0.7534003309727738\n",
      "Epoch 33: Test Loss 0.749716485067017\n",
      "Epoch 34: Test Loss 0.7460810071242606\n",
      "Epoch 35: Test Loss 0.7424937285532791\n",
      "Epoch 36: Test Loss 0.7389544461276584\n",
      "Epoch 37: Test Loss 0.7354629239919993\n",
      "Epoch 38: Test Loss 0.7320188956377833\n",
      "Epoch 39: Test Loss 0.7286220658436755\n",
      "Epoch 40: Test Loss 0.7252721125745578\n",
      "Epoch 41: Test Loss 0.7219686888349806\n",
      "Epoch 42: Test Loss 0.7187114244733065\n",
      "Epoch 43: Test Loss 0.7154999279329088\n",
      "Epoch 44: Test Loss 0.7123337879480354\n",
      "Epoch 45: Test Loss 0.7092125751817693\n",
      "Epoch 46: Test Loss 0.7061358438048573\n",
      "Epoch 47: Test Loss 0.7031031330135953\n",
      "Epoch 48: Test Loss 0.7001139684862223\n",
      "Epoch 49: Test Loss 0.6971678637773984\n",
      "Epoch 50: Test Loss 0.6942643216502546\n",
      "Epoch 51: Test Loss 0.6914028353467809\n",
      "Epoch 52: Test Loss 0.6885828897963612\n",
      "Epoch 53: Test Loss 0.6858039627638057\n",
      "Epoch 54: Test Loss 0.6830655259372227\n",
      "Epoch 55: Test Loss 0.6803670459572128\n",
      "Epoch 56: Test Loss 0.6777079853886077\n",
      "Epoch 57: Test Loss 0.6750878036360767\n",
      "Epoch 58: Test Loss 0.6725059578051846\n",
      "Epoch 59: Test Loss 0.6699619035105913\n",
      "Epoch 60: Test Loss 0.6674550956329819\n",
      "Epoch 61: Test Loss 0.6649849890266462\n",
      "Epoch 62: Test Loss 0.6625510391794538\n",
      "Epoch 63: Test Loss 0.6601527028269947\n",
      "Epoch 64: Test Loss 0.6577894385228387\n",
      "Epoch 65: Test Loss 0.6554607071669533\n",
      "Epoch 66: Test Loss 0.6531659724936165\n",
      "Epoch 67: Test Loss 0.6509047015212256\n",
      "Epoch 68: Test Loss 0.6486763649655963\n",
      "Epoch 69: Test Loss 0.6464804376184359\n",
      "Epoch 70: Test Loss 0.6443163986930286\n",
      "Epoch 71: Test Loss 0.642183732138439\n",
      "Epoch 72: Test Loss 0.6400819269245084\n",
      "Epoch 73: Test Loss 0.6380104772986024\n",
      "Epoch 74: Test Loss 0.6359688830161483\n",
      "Epoch 75: Test Loss 0.6339566495463167\n",
      "Epoch 76: Test Loss 0.6319732882543958\n",
      "Epoch 77: Test Loss 0.6300183165620565\n",
      "Epoch 78: Test Loss 0.6280912580872205\n",
      "Epoch 79: Test Loss 0.6261916427645087\n",
      "Epoch 80: Test Loss 0.6243190069477131\n",
      "Epoch 81: Test Loss 0.6224728934953931\n",
      "Epoch 82: Test Loss 0.6206528518407464\n",
      "Epoch 83: Test Loss 0.6188584380469015\n",
      "Epoch 84: Test Loss 0.6170892148485116\n",
      "Epoch 85: Test Loss 0.6153447516808705\n",
      "Epoch 86: Test Loss 0.6136246246971653\n",
      "Epoch 87: Test Loss 0.6119284167750594\n",
      "Epoch 88: Test Loss 0.6102557175132041\n",
      "Epoch 89: Test Loss 0.6086061232186034\n",
      "Epoch 90: Test Loss 0.6069792368854587\n",
      "Epoch 91: Test Loss 0.6053746681663136\n",
      "Epoch 92: Test Loss 0.6037920333361182\n",
      "Epoch 93: Test Loss 0.6022309552497185\n",
      "Epoch 94: Test Loss 0.6006910632935922\n",
      "Epoch 95: Test Loss 0.5991719933320953\n",
      "Epoch 96: Test Loss 0.5976733876489734\n",
      "Epoch 97: Test Loss 0.5961948948844651\n",
      "Epoch 98: Test Loss 0.5947361699685398\n",
      "Epoch 99: Test Loss 0.5932968740505912\n",
      "30.672450065612793 seconds elapsed.\n"
     ]
    }
   ],
   "source": [
    "x = np.random.normal(0.0, 1.0, (10,))\n",
    "y = np.random.normal(0.0, 1.0, (2,))\n",
    "\n",
    "dnn = DNN(hidden_depth = 5, num_neuron = 32, num_input = 10,\n",
    "          num_output = 2, activation = sigmoid)\n",
    "\n",
    "t = time.time()\n",
    "for epoch in range(100):\n",
    "    loss = gradient_descent(dnn, x, y, mean_squared_errors, 0.01)\n",
    "    print(f'Epoch {epoch + 1}: Test Loss {loss}')\n",
    "print(f'{time.time() - t} seconds elapsed.')"
   ]
  },
  {
   "cell_type": "code",
   "execution_count": null,
   "metadata": {},
   "outputs": [],
   "source": []
  },
  {
   "cell_type": "markdown",
   "metadata": {},
   "source": [
    "## Training DNN with Back Propagation"
   ]
  },
  {
   "cell_type": "code",
   "execution_count": 58,
   "metadata": {},
   "outputs": [],
   "source": [
    "import time\n",
    "import numpy as np"
   ]
  },
  {
   "cell_type": "markdown",
   "metadata": {},
   "source": [
    "Utility Functions"
   ]
  },
  {
   "cell_type": "code",
   "execution_count": 59,
   "metadata": {},
   "outputs": [],
   "source": [
    "def _t(x):\n",
    "    return np.transpose(x)\n",
    "\n",
    "def _m(A, B):\n",
    "    return np.matmul(A, B)"
   ]
  },
  {
   "cell_type": "markdown",
   "metadata": {},
   "source": [
    "Sigmoid"
   ]
  },
  {
   "cell_type": "code",
   "execution_count": 60,
   "metadata": {},
   "outputs": [],
   "source": [
    "class Sigmoid:\n",
    "    def __init__(self):\n",
    "        self.last_o = 1\n",
    "    \n",
    "    def __call__(self, x):\n",
    "        self.last_o = 1.0 / (1.0 + np.exp(-x))\n",
    "        return self.last_o # Store it for Back Propagation\n",
    "    \n",
    "    def grad(self): # sigmoid(x)(1 - sigmoid(x))\n",
    "        return self.last_o * (1.0 - self.last_o) # computationally efficient not using exp operations"
   ]
  },
  {
   "cell_type": "markdown",
   "metadata": {},
   "source": [
    "Mean Squared Errors"
   ]
  },
  {
   "cell_type": "code",
   "execution_count": 61,
   "metadata": {},
   "outputs": [],
   "source": [
    "class MeanSquaredErrors:\n",
    "    def __init__(self):\n",
    "        self.dh = 1\n",
    "        self.last_diff = 1\n",
    "        \n",
    "    def __call__(self, h, y):\n",
    "        self.last_diff = h - y\n",
    "        return 1 / 2 * np.mean(np.square(self.last_diff))\n",
    "        \n",
    "    def grad(self):\n",
    "        return self.last_diff"
   ]
  },
  {
   "cell_type": "markdown",
   "metadata": {},
   "source": [
    "Dense Layer"
   ]
  },
  {
   "cell_type": "code",
   "execution_count": 62,
   "metadata": {},
   "outputs": [],
   "source": [
    "class Dense:\n",
    "    def __init__(self, W, b, a_obj):\n",
    "        self.W = W\n",
    "        self.b = b\n",
    "        self.a = a_obj()\n",
    "        \n",
    "        self.dW = np.zeros_like(self.W)\n",
    "        self.db = np.zeros_like(self.b)\n",
    "        self.dh = np.zeros_like(_t(self.W))\n",
    "        \n",
    "        self.last_x = np.zeros((self.W.shape[0],))\n",
    "        self.last_h = np.zeros((self.W.shape[1],))\n",
    "        \n",
    "    def __call__(self, x):\n",
    "        self.last_x = x\n",
    "        self.last_h = _m(_t(self.W), x) + self.b\n",
    "        return self.a(self.last_h)\n",
    "    \n",
    "    def grad(self):\n",
    "        return self.W * self.a.grad()\n",
    "    \n",
    "    def grad_W(self, dh):\n",
    "        grad = np.ones_like(self.W)\n",
    "        grad_a = self.a.grad()\n",
    "        for j in range(grad.shape[1]):\n",
    "            grad[:, j] = dh[j] * grad_a[j] * self.last_x\n",
    "        return grad\n",
    "    \n",
    "    def grad_b(self, dh):\n",
    "        return dh * self.a.grad()"
   ]
  },
  {
   "cell_type": "markdown",
   "metadata": {},
   "source": [
    "DNN"
   ]
  },
  {
   "cell_type": "code",
   "execution_count": 63,
   "metadata": {},
   "outputs": [],
   "source": [
    "class DNN:\n",
    "    def __init__(self, hidden_depth, num_neuron, input, output,\n",
    "                activation = Sigmoid):\n",
    "        def init_var(i, o):\n",
    "            return np.random.normal(0.0, 0.01, (i, o)), np.zeros((o,))\n",
    "        \n",
    "        self.sequence = list()\n",
    "        # First Hidden Layer\n",
    "        W, b = init_var(input, num_neuron)\n",
    "        self.sequence.append(Dense(W, b, activation))\n",
    "        \n",
    "        # Hidden Layers\n",
    "        for index in range(hidden_depth):\n",
    "            W, b = init_var(num_neuron, num_neuron)\n",
    "            self.sequence.append(Dense(W, b, activation))\n",
    "            \n",
    "        # Output Layer\n",
    "        W, b = init_var(num_neuron, output)\n",
    "        self.sequence.append(Dense(W, b, activation))\n",
    "        \n",
    "    def __call__(self, x):\n",
    "        for layer in self.sequence:\n",
    "            x = layer(x)\n",
    "        return x\n",
    "    \n",
    "    def calc_gradient(self, loss_obj):\n",
    "        loss_obj.dh = loss_obj.grad()\n",
    "        self.sequence.append(loss_obj)\n",
    "        \n",
    "        # Back Propagation loop\n",
    "        for i in range(len(self.sequence) - 1, 0, -1):\n",
    "            l1 = self.sequence[i]\n",
    "            l0 = self.sequence[i - 1]\n",
    "            \n",
    "            l0.dh = _m(l0.grad(), l1.dh)\n",
    "            l0.dW = l0.grad_W(l1.dh)\n",
    "            l0.db = l0.grad_b(l1.dh)\n",
    "        \n",
    "        self.sequence.remove(loss_obj)"
   ]
  },
  {
   "cell_type": "markdown",
   "metadata": {},
   "source": [
    "Gradient Descent"
   ]
  },
  {
   "cell_type": "code",
   "execution_count": 67,
   "metadata": {},
   "outputs": [],
   "source": [
    "def gradient_descent(network, x, y, loss_obj, alpha = 0.01):\n",
    "    loss = loss_obj(network(x), y)\n",
    "    network.calc_gradient(loss_obj)\n",
    "    for layer in network.sequence:\n",
    "        layer.W += -alpha * layer.dW\n",
    "        layer.b += -alpha * layer.db\n",
    "    return loss"
   ]
  },
  {
   "cell_type": "markdown",
   "metadata": {},
   "source": [
    "Test Running"
   ]
  },
  {
   "cell_type": "code",
   "execution_count": 69,
   "metadata": {},
   "outputs": [
    {
     "name": "stdout",
     "output_type": "stream",
     "text": [
      "Epoch 0: Test Loss 0.9450587018754937\n",
      "Epoch 1: Test Loss 0.9345149066948719\n",
      "Epoch 2: Test Loss 0.924092720389099\n",
      "Epoch 3: Test Loss 0.9138001687427206\n",
      "Epoch 4: Test Loss 0.9036446548836878\n",
      "Epoch 5: Test Loss 0.8936329429252443\n",
      "Epoch 6: Test Loss 0.8837711483602786\n",
      "Epoch 7: Test Loss 0.8740647349166801\n",
      "Epoch 8: Test Loss 0.8645185174813588\n",
      "Epoch 9: Test Loss 0.8551366706182616\n",
      "Epoch 10: Test Loss 0.845922742142768\n",
      "Epoch 11: Test Loss 0.8368796711711448\n",
      "Epoch 12: Test Loss 0.8280098100384921\n",
      "Epoch 13: Test Loss 0.8193149494704188\n",
      "Epoch 14: Test Loss 0.8107963464006367\n",
      "Epoch 15: Test Loss 0.8024547538466387\n",
      "Epoch 16: Test Loss 0.7942904522862866\n",
      "Epoch 17: Test Loss 0.7863032820171103\n",
      "Epoch 18: Test Loss 0.7784926760251742\n",
      "Epoch 19: Test Loss 0.7708576929393354\n",
      "Epoch 20: Test Loss 0.76339704969773\n",
      "Epoch 21: Test Loss 0.756109153604713\n",
      "Epoch 22: Test Loss 0.7489921335068709\n",
      "Epoch 23: Test Loss 0.7420438698650189\n",
      "Epoch 24: Test Loss 0.7352620235444525\n",
      "Epoch 25: Test Loss 0.7286440631875306\n",
      "Epoch 26: Test Loss 0.7221872910705588\n",
      "Epoch 27: Test Loss 0.7158888673807036\n",
      "Epoch 28: Test Loss 0.7097458328782651\n",
      "Epoch 29: Test Loss 0.7037551299351448\n",
      "Epoch 30: Test Loss 0.6979136219619311\n",
      "Epoch 31: Test Loss 0.6922181112539487\n",
      "Epoch 32: Test Loss 0.6866653553011564\n",
      "Epoch 33: Test Loss 0.6812520816182459\n",
      "Epoch 34: Test Loss 0.6759750011600492\n",
      "Epoch 35: Test Loss 0.6708308203936759\n",
      "Epoch 36: Test Loss 0.665816252103091\n",
      "Epoch 37: Test Loss 0.6609280250042819\n",
      "Epoch 38: Test Loss 0.6561628922501757\n",
      "Epoch 39: Test Loss 0.6515176389041861\n",
      "Epoch 40: Test Loss 0.6469890884600185\n",
      "Epoch 41: Test Loss 0.6425741084832874\n",
      "Epoch 42: Test Loss 0.6382696154478248\n",
      "Epoch 43: Test Loss 0.634072578836411\n",
      "Epoch 44: Test Loss 0.6299800245721832\n",
      "Epoch 45: Test Loss 0.6259890378432975\n",
      "Epoch 46: Test Loss 0.6220967653796099\n",
      "Epoch 47: Test Loss 0.6183004172362888\n",
      "Epoch 48: Test Loss 0.6145972681354508\n",
      "Epoch 49: Test Loss 0.6109846584131449\n",
      "Epoch 50: Test Loss 0.6074599946153649\n",
      "Epoch 51: Test Loss 0.6040207497832534\n",
      "Epoch 52: Test Loss 0.6006644634643118\n",
      "Epoch 53: Test Loss 0.5973887414832468\n",
      "Epoch 54: Test Loss 0.594191255503085\n",
      "Epoch 55: Test Loss 0.5910697424043808\n",
      "Epoch 56: Test Loss 0.58802200350771\n",
      "Epoch 57: Test Loss 0.5850459036622095\n",
      "Epoch 58: Test Loss 0.5821393702206573\n",
      "Epoch 59: Test Loss 0.5793003919195073\n",
      "Epoch 60: Test Loss 0.5765270176803704\n",
      "Epoch 61: Test Loss 0.5738173553476775\n",
      "Epoch 62: Test Loss 0.5711695703756474\n",
      "Epoch 63: Test Loss 0.5685818844762183\n",
      "Epoch 64: Test Loss 0.5660525742382598\n",
      "Epoch 65: Test Loss 0.5635799697271715\n",
      "Epoch 66: Test Loss 0.5611624530728753\n",
      "Epoch 67: Test Loss 0.5587984570532116\n",
      "Epoch 68: Test Loss 0.5564864636788542\n",
      "Epoch 69: Test Loss 0.5542250027850497\n",
      "Epoch 70: Test Loss 0.5520126506347591\n",
      "Epoch 71: Test Loss 0.5498480285371363\n",
      "Epoch 72: Test Loss 0.5477298014846808\n",
      "Epoch 73: Test Loss 0.545656676811897\n",
      "Epoch 74: Test Loss 0.5436274028778179\n",
      "Epoch 75: Test Loss 0.5416407677743391\n",
      "Epoch 76: Test Loss 0.5396955980619518\n",
      "Epoch 77: Test Loss 0.5377907575341232\n",
      "Epoch 78: Test Loss 0.5359251460113056\n",
      "Epoch 79: Test Loss 0.5340976981652843\n",
      "Epoch 80: Test Loss 0.5323073823743705\n",
      "Epoch 81: Test Loss 0.530553199609738\n",
      "Epoch 82: Test Loss 0.5288341823530411\n",
      "Epoch 83: Test Loss 0.5271493935453052\n",
      "Epoch 84: Test Loss 0.525497925566949\n",
      "Epoch 85: Test Loss 0.5238788992486939\n",
      "Epoch 86: Test Loss 0.5222914629130231\n",
      "Epoch 87: Test Loss 0.520734791445767\n",
      "Epoch 88: Test Loss 0.5192080853973369\n",
      "Epoch 89: Test Loss 0.517710570113062\n",
      "Epoch 90: Test Loss 0.5162414948920471\n",
      "Epoch 91: Test Loss 0.5148001321739288\n",
      "Epoch 92: Test Loss 0.5133857767528782\n",
      "Epoch 93: Test Loss 0.5119977450181786\n",
      "Epoch 94: Test Loss 0.5106353742206882\n",
      "Epoch 95: Test Loss 0.5092980217644854\n",
      "Epoch 96: Test Loss 0.5079850645229927\n",
      "Epoch 97: Test Loss 0.5066958981788666\n",
      "Epoch 98: Test Loss 0.5054299365869447\n",
      "Epoch 99: Test Loss 0.5041866111595441\n",
      "0.09702873229980469 seconds elapsed.\n"
     ]
    }
   ],
   "source": [
    "x = np.random.normal(0.0, 1.0, (10,))\n",
    "y = np.random.normal(0.0, 1.0, (2,))\n",
    "\n",
    "t = time.time()\n",
    "dnn = DNN(hidden_depth = 5, num_neuron = 32, input = 10, output = 2,\n",
    "         activation = Sigmoid)\n",
    "loss_obj = MeanSquaredErrors()\n",
    "for epoch in range(100):\n",
    "    loss = gradient_descent(dnn, x, y, loss_obj, alpha = 0.01)\n",
    "    print(f'Epoch {epoch}: Test Loss {loss}')\n",
    "print(f'{time.time() - t} seconds elapsed.')"
   ]
  },
  {
   "cell_type": "code",
   "execution_count": null,
   "metadata": {},
   "outputs": [],
   "source": []
  },
  {
   "cell_type": "markdown",
   "metadata": {},
   "source": [
    "## Implementing Training Algorithm for NN (TF 2.0)"
   ]
  },
  {
   "cell_type": "markdown",
   "metadata": {},
   "source": [
    "Import Modules"
   ]
  },
  {
   "cell_type": "code",
   "execution_count": 1,
   "metadata": {},
   "outputs": [],
   "source": [
    "import tensorflow as tf"
   ]
  },
  {
   "cell_type": "markdown",
   "metadata": {},
   "source": [
    "Hyperparameter"
   ]
  },
  {
   "cell_type": "code",
   "execution_count": 13,
   "metadata": {},
   "outputs": [],
   "source": [
    "EPOCHS = 10"
   ]
  },
  {
   "cell_type": "markdown",
   "metadata": {},
   "source": [
    "Network Sturucture"
   ]
  },
  {
   "cell_type": "code",
   "execution_count": 3,
   "metadata": {},
   "outputs": [],
   "source": [
    "class MyModel(tf.keras.Model):\n",
    "    def __init__(self):\n",
    "        super().__init__()\n",
    "        self.flatten = tf.keras.layers.Flatten(input_shape = (28, 28))\n",
    "        self.dense1 = tf.keras.layers.Dense(32, activation = 'relu')\n",
    "        self.dense2 = tf.keras.layers.Dense(64, activation = 'relu')\n",
    "        self.dense3 = tf.keras.layers.Dense(128, activation = 'relu')\n",
    "        self.dense4 = tf.keras.layers.Dense(256, activation = 'relu')\n",
    "        # for multi-class activation, using 'softmax'\n",
    "        self.dense5 = tf.keras.layers.Dense(10, activation = 'softmax')\n",
    "        \n",
    "    def call(self, x, training = None, mask = None):\n",
    "        x = self.flatten(x)\n",
    "        x = self.dense1(x)\n",
    "        x = self.dense2(x)\n",
    "        x = self.dense3(x)\n",
    "        x = self.dense4(x)\n",
    "        return self.dense5(x)"
   ]
  },
  {
   "cell_type": "markdown",
   "metadata": {},
   "source": [
    "Training Function"
   ]
  },
  {
   "cell_type": "code",
   "execution_count": 18,
   "metadata": {},
   "outputs": [],
   "source": [
    "# Use decorator so that the defined function is processed\n",
    "# not by a general Python operations but by a TensorFlow operations.\n",
    "@tf.function # @: decorator\n",
    "def train_step(model, images, labels, loss_object, optimizer, train_loss, train_accuracy):\n",
    "    with tf.GradientTape() as tape:\n",
    "        # During feed forward process, get and store (in tape) gradient values.\n",
    "        predictions = model(images) # Batchsize X 10 (# of classes)\n",
    "        loss = loss_object(labels, predictions)\n",
    "    gradients = tape.gradient(loss, model.trainable_variables)\n",
    "    # updating using gradients\n",
    "    # 'zip(gradients, model.trainable_variables)': object to iterate gradient and model.trainable_variables\n",
    "    optimizer.apply_gradients(zip(gradients, model.trainable_variables))\n",
    "    \n",
    "    train_loss(loss)\n",
    "    train_accuracy(labels, predictions)"
   ]
  },
  {
   "cell_type": "markdown",
   "metadata": {},
   "source": [
    "Implementing Test"
   ]
  },
  {
   "cell_type": "code",
   "execution_count": 5,
   "metadata": {},
   "outputs": [],
   "source": [
    "@tf.function\n",
    "def test_step(model, images, labels, loss_object, test_loss, test_accuracy):\n",
    "    predictions = model(images)\n",
    "    loss = loss_object(labels, predictions)\n",
    "    \n",
    "    test_loss(loss)\n",
    "    test_accuracy(labels, predictions)"
   ]
  },
  {
   "cell_type": "markdown",
   "metadata": {},
   "source": [
    "Loading Data"
   ]
  },
  {
   "cell_type": "code",
   "execution_count": 6,
   "metadata": {},
   "outputs": [],
   "source": [
    "mnist = tf.keras.datasets.mnist\n",
    "\n",
    "(x_train, y_train), (x_test, y_test) = mnist.load_data()\n",
    "x_train, x_test = x_train / 255.0, x_test / 255.0\n",
    "\n",
    "train_ds = tf.data.Dataset.from_tensor_slices((x_train, y_train)).shuffle(1024).batch(32)\n",
    "test_ds = tf.data.Dataset.from_tensor_slices((x_train, y_train)).batch(32)"
   ]
  },
  {
   "cell_type": "markdown",
   "metadata": {},
   "source": [
    "Generating a Model"
   ]
  },
  {
   "cell_type": "code",
   "execution_count": 7,
   "metadata": {},
   "outputs": [],
   "source": [
    "model = MyModel()"
   ]
  },
  {
   "cell_type": "markdown",
   "metadata": {},
   "source": [
    "Defining Loss Function and Optimizing Algorithm"
   ]
  },
  {
   "cell_type": "code",
   "execution_count": 9,
   "metadata": {},
   "outputs": [
    {
     "name": "stdout",
     "output_type": "stream",
     "text": [
      "[5 0 4 ... 5 6 8]\n",
      "(60000,)\n"
     ]
    }
   ],
   "source": [
    "print(y_train) # Get to know that the input data have sparse representation.\n",
    "print(y_train.shape)"
   ]
  },
  {
   "cell_type": "code",
   "execution_count": 10,
   "metadata": {},
   "outputs": [],
   "source": [
    "loss_object = tf.keras.losses.SparseCategoricalCrossentropy()\n",
    "optimizer = tf.keras.optimizers.Adam()"
   ]
  },
  {
   "cell_type": "markdown",
   "metadata": {},
   "source": [
    "Performance Metric"
   ]
  },
  {
   "cell_type": "code",
   "execution_count": 12,
   "metadata": {},
   "outputs": [],
   "source": [
    "train_loss = tf.keras.metrics.Mean(name = 'train_loss')\n",
    "train_accuracy = tf.keras.metrics.SparseCategoricalAccuracy(name = 'train_accuracy')\n",
    "\n",
    "test_loss = tf.keras.metrics.Mean(name = 'test_loss')\n",
    "test_accuracy = tf.keras.metrics.SparseCategoricalAccuracy(name = 'test_accuracy')"
   ]
  },
  {
   "cell_type": "markdown",
   "metadata": {},
   "source": [
    "Training Loop"
   ]
  },
  {
   "cell_type": "code",
   "execution_count": 23,
   "metadata": {},
   "outputs": [
    {
     "name": "stdout",
     "output_type": "stream",
     "text": [
      "Epoch: 1, Loss: 0.02281985804438591, Accuracy: 99.29000091552734, Test Loss: 0.016445999965071678, Test Accuracy: 99.51000213623047\n",
      "Epoch: 2, Loss: 0.020832333713769913, Accuracy: 99.36166381835938, Test Loss: 0.020435458049178123, Test Accuracy: 99.37833404541016\n",
      "Epoch: 3, Loss: 0.017331458628177643, Accuracy: 99.44499969482422, Test Loss: 0.01634388044476509, Test Accuracy: 99.48666381835938\n",
      "Epoch: 4, Loss: 0.02383905090391636, Accuracy: 99.33000183105469, Test Loss: 0.016187584027647972, Test Accuracy: 99.51166534423828\n",
      "Epoch: 5, Loss: 0.01553409919142723, Accuracy: 99.56999969482422, Test Loss: 0.023038091138005257, Test Accuracy: 99.375\n",
      "Epoch: 6, Loss: 0.025977233424782753, Accuracy: 99.28333282470703, Test Loss: 0.0273455623537302, Test Accuracy: 99.3566665649414\n",
      "Epoch: 7, Loss: 0.01699952222406864, Accuracy: 99.5, Test Loss: 0.03148960322141647, Test Accuracy: 99.19833374023438\n",
      "Epoch: 8, Loss: 0.0195892546325922, Accuracy: 99.42500305175781, Test Loss: 0.020966457203030586, Test Accuracy: 99.39833068847656\n",
      "Epoch: 9, Loss: 0.02253437042236328, Accuracy: 99.34166717529297, Test Loss: 0.026476334780454636, Test Accuracy: 99.22666931152344\n",
      "Epoch: 10, Loss: 0.01796313002705574, Accuracy: 99.45999908447266, Test Loss: 0.020516131073236465, Test Accuracy: 99.41999816894531\n"
     ]
    }
   ],
   "source": [
    "for epoch in range(EPOCHS):\n",
    "    for images, labels in train_ds:\n",
    "        train_step(model, images, labels, loss_object, optimizer, train_loss, train_accuracy)\n",
    "        \n",
    "    for images, labels in test_ds:\n",
    "        test_step(model, images, labels, loss_object, test_loss, test_accuracy)\n",
    "    \n",
    "    print(f'Epoch: {epoch + 1}, Loss: {train_loss.result()}, ' +\n",
    "    f'Accuracy: {train_accuracy.result() * 100}, ' +\n",
    "    f'Test Loss: {test_loss.result()}, ' +\n",
    "    f'Test Accuracy: {test_accuracy.result() * 100}')\n",
    "    \n",
    "    train_loss.reset_states()\n",
    "    train_accuracy.reset_states()\n",
    "    test_loss.reset_states()\n",
    "    test_accuracy.reset_states()"
   ]
  },
  {
   "cell_type": "code",
   "execution_count": null,
   "metadata": {},
   "outputs": [],
   "source": []
  },
  {
   "cell_type": "markdown",
   "metadata": {},
   "source": [
    "## Preventing Overfitting"
   ]
  },
  {
   "cell_type": "markdown",
   "metadata": {},
   "source": [
    "Import Modules"
   ]
  },
  {
   "cell_type": "code",
   "execution_count": 1,
   "metadata": {},
   "outputs": [],
   "source": [
    "import tensorflow as tf\n",
    "import numpy as np\n",
    "import matplotlib.pyplot as plt"
   ]
  },
  {
   "cell_type": "markdown",
   "metadata": {},
   "source": [
    "Hyperparameter"
   ]
  },
  {
   "cell_type": "code",
   "execution_count": 2,
   "metadata": {},
   "outputs": [],
   "source": [
    "EPOCHS = 50"
   ]
  },
  {
   "cell_type": "markdown",
   "metadata": {},
   "source": [
    "Network Structure"
   ]
  },
  {
   "cell_type": "code",
   "execution_count": 15,
   "metadata": {},
   "outputs": [],
   "source": [
    "class MyModel(tf.keras.Model):\n",
    "    def __init__(self):\n",
    "        super(MyModel, self).__init__()\n",
    "        self.flatten = tf.keras.layers.Flatten()                       # 28x28 = 784\n",
    "        self.dense1 = tf.keras.layers.Dense(64, activation='relu')\n",
    "        self.dense2 = tf.keras.layers.Dense(64, activation='relu')\n",
    "        self.dense3 = tf.keras.layers.Dense(64, activation='relu')\n",
    "        self.dense4 = tf.keras.layers.Dense(128, activation='relu')\n",
    "        self.dense5 = tf.keras.layers.Dense(10, activation='softmax')  # 10\n",
    "\n",
    "    def call(self, x, training=False, mask=None):\n",
    "        h = self.flatten(x)\n",
    "        h = self.dense1(h)\n",
    "        h = self.dense2(h)\n",
    "        h = self.dense3(h)\n",
    "        h = self.dense4(h)\n",
    "        return self.dense5(h)"
   ]
  },
  {
   "cell_type": "markdown",
   "metadata": {},
   "source": [
    "Loading Data"
   ]
  },
  {
   "cell_type": "code",
   "execution_count": 16,
   "metadata": {},
   "outputs": [],
   "source": [
    "fashion_mnist = tf.keras.datasets.fashion_mnist\n",
    "\n",
    "(x_train, y_train), (x_test, y_test) = fashion_mnist.load_data()\n",
    "x_train, x_test = x_train / 255.0, x_test / 255.0\n",
    "\n",
    "x_train = x_train.astype(np.float32)\n",
    "x_test = x_test.astype(np.float32)\n",
    "\n",
    "train_ds = tf.data.Dataset.from_tensor_slices((x_train, y_train)).shuffle(10000).batch(32).prefetch(2048)\n",
    "test_ds = tf.data.Dataset.from_tensor_slices((x_test, y_test)).batch(32).prefetch(2048)"
   ]
  },
  {
   "cell_type": "code",
   "execution_count": null,
   "metadata": {},
   "outputs": [],
   "source": [
    "Generating a Model"
   ]
  },
  {
   "cell_type": "code",
   "execution_count": 17,
   "metadata": {},
   "outputs": [],
   "source": [
    "model = MyModel()\n",
    "\n",
    "model.compile(optimizer='adam',\n",
    "              loss='sparse_categorical_crossentropy',\n",
    "              metrics=['accuracy'])"
   ]
  },
  {
   "cell_type": "markdown",
   "metadata": {},
   "source": [
    "Training"
   ]
  },
  {
   "cell_type": "code",
   "execution_count": 18,
   "metadata": {},
   "outputs": [
    {
     "name": "stdout",
     "output_type": "stream",
     "text": [
      "Epoch 1/50\n",
      "1875/1875 [==============================] - 3s 1ms/step - loss: 0.5058 - accuracy: 0.8143 - val_loss: 0.4218 - val_accuracy: 0.8469\n",
      "Epoch 2/50\n",
      "1875/1875 [==============================] - 2s 1ms/step - loss: 0.3792 - accuracy: 0.8616 - val_loss: 0.4106 - val_accuracy: 0.8563\n",
      "Epoch 3/50\n",
      "1875/1875 [==============================] - 2s 1ms/step - loss: 0.3457 - accuracy: 0.8741 - val_loss: 0.3768 - val_accuracy: 0.8641\n",
      "Epoch 4/50\n",
      "1875/1875 [==============================] - 3s 1ms/step - loss: 0.3227 - accuracy: 0.8807 - val_loss: 0.3531 - val_accuracy: 0.8734\n",
      "Epoch 5/50\n",
      "1875/1875 [==============================] - 3s 1ms/step - loss: 0.3062 - accuracy: 0.8867 - val_loss: 0.3620 - val_accuracy: 0.8710\n",
      "Epoch 6/50\n",
      "1875/1875 [==============================] - 2s 1ms/step - loss: 0.2926 - accuracy: 0.8911 - val_loss: 0.3577 - val_accuracy: 0.8711\n",
      "Epoch 7/50\n",
      "1875/1875 [==============================] - 3s 1ms/step - loss: 0.2826 - accuracy: 0.8947 - val_loss: 0.3473 - val_accuracy: 0.8728\n",
      "Epoch 8/50\n",
      "1875/1875 [==============================] - 3s 1ms/step - loss: 0.2751 - accuracy: 0.8972 - val_loss: 0.3504 - val_accuracy: 0.8739\n",
      "Epoch 9/50\n",
      "1875/1875 [==============================] - 2s 1ms/step - loss: 0.2638 - accuracy: 0.9011 - val_loss: 0.3476 - val_accuracy: 0.8798\n",
      "Epoch 10/50\n",
      "1875/1875 [==============================] - 2s 1ms/step - loss: 0.2578 - accuracy: 0.9035 - val_loss: 0.3502 - val_accuracy: 0.8768\n",
      "Epoch 11/50\n",
      "1875/1875 [==============================] - 2s 1ms/step - loss: 0.2502 - accuracy: 0.9050 - val_loss: 0.3444 - val_accuracy: 0.8767\n",
      "Epoch 12/50\n",
      "1875/1875 [==============================] - 3s 2ms/step - loss: 0.2437 - accuracy: 0.9082 - val_loss: 0.3437 - val_accuracy: 0.8788\n",
      "Epoch 13/50\n",
      "1875/1875 [==============================] - 3s 1ms/step - loss: 0.2367 - accuracy: 0.9111 - val_loss: 0.3692 - val_accuracy: 0.8707\n",
      "Epoch 14/50\n",
      "1875/1875 [==============================] - 3s 1ms/step - loss: 0.2299 - accuracy: 0.9132 - val_loss: 0.3457 - val_accuracy: 0.8819\n",
      "Epoch 15/50\n",
      "1875/1875 [==============================] - 2s 1ms/step - loss: 0.2268 - accuracy: 0.9143 - val_loss: 0.3940 - val_accuracy: 0.8711\n",
      "Epoch 16/50\n",
      "1875/1875 [==============================] - 2s 1ms/step - loss: 0.2209 - accuracy: 0.9151 - val_loss: 0.3442 - val_accuracy: 0.8811\n",
      "Epoch 17/50\n",
      "1875/1875 [==============================] - 2s 1ms/step - loss: 0.2155 - accuracy: 0.9177 - val_loss: 0.4107 - val_accuracy: 0.8755\n",
      "Epoch 18/50\n",
      "1875/1875 [==============================] - 2s 1ms/step - loss: 0.2153 - accuracy: 0.9184 - val_loss: 0.3637 - val_accuracy: 0.8782\n",
      "Epoch 19/50\n",
      "1875/1875 [==============================] - 2s 1ms/step - loss: 0.2067 - accuracy: 0.9201 - val_loss: 0.3746 - val_accuracy: 0.8801\n",
      "Epoch 20/50\n",
      "1875/1875 [==============================] - 2s 1ms/step - loss: 0.2036 - accuracy: 0.9227 - val_loss: 0.3670 - val_accuracy: 0.8847\n",
      "Epoch 21/50\n",
      "1875/1875 [==============================] - 2s 1ms/step - loss: 0.2011 - accuracy: 0.9221 - val_loss: 0.3776 - val_accuracy: 0.8801\n",
      "Epoch 22/50\n",
      "1875/1875 [==============================] - 2s 1ms/step - loss: 0.1977 - accuracy: 0.9247 - val_loss: 0.3650 - val_accuracy: 0.8855\n",
      "Epoch 23/50\n",
      "1875/1875 [==============================] - 2s 1ms/step - loss: 0.1909 - accuracy: 0.9266 - val_loss: 0.3635 - val_accuracy: 0.8838\n",
      "Epoch 24/50\n",
      "1875/1875 [==============================] - 2s 1ms/step - loss: 0.1882 - accuracy: 0.9284 - val_loss: 0.3777 - val_accuracy: 0.8820\n",
      "Epoch 25/50\n",
      "1875/1875 [==============================] - 2s 1ms/step - loss: 0.1864 - accuracy: 0.9282 - val_loss: 0.4207 - val_accuracy: 0.8768\n",
      "Epoch 26/50\n",
      "1875/1875 [==============================] - 2s 1ms/step - loss: 0.1831 - accuracy: 0.9296 - val_loss: 0.3808 - val_accuracy: 0.8889\n",
      "Epoch 27/50\n",
      "1875/1875 [==============================] - 2s 1ms/step - loss: 0.1799 - accuracy: 0.9311 - val_loss: 0.4261 - val_accuracy: 0.8739\n",
      "Epoch 28/50\n",
      "1875/1875 [==============================] - 2s 1ms/step - loss: 0.1816 - accuracy: 0.9310 - val_loss: 0.4027 - val_accuracy: 0.8852\n",
      "Epoch 29/50\n",
      "1875/1875 [==============================] - 2s 1ms/step - loss: 0.1759 - accuracy: 0.9318 - val_loss: 0.4006 - val_accuracy: 0.8843\n",
      "Epoch 30/50\n",
      "1875/1875 [==============================] - 2s 1ms/step - loss: 0.1727 - accuracy: 0.9324 - val_loss: 0.4268 - val_accuracy: 0.8805\n",
      "Epoch 31/50\n",
      "1875/1875 [==============================] - 2s 1ms/step - loss: 0.1724 - accuracy: 0.9331 - val_loss: 0.4072 - val_accuracy: 0.8864\n",
      "Epoch 32/50\n",
      "1875/1875 [==============================] - 2s 1ms/step - loss: 0.1652 - accuracy: 0.9362 - val_loss: 0.4229 - val_accuracy: 0.8865\n",
      "Epoch 33/50\n",
      "1875/1875 [==============================] - 2s 1ms/step - loss: 0.1668 - accuracy: 0.9345 - val_loss: 0.4350 - val_accuracy: 0.8842\n",
      "Epoch 34/50\n",
      "1875/1875 [==============================] - 2s 1ms/step - loss: 0.1647 - accuracy: 0.9357 - val_loss: 0.4543 - val_accuracy: 0.8817\n",
      "Epoch 35/50\n",
      "1875/1875 [==============================] - 2s 1ms/step - loss: 0.1608 - accuracy: 0.9381 - val_loss: 0.4587 - val_accuracy: 0.8815\n",
      "Epoch 36/50\n",
      "1875/1875 [==============================] - 2s 1ms/step - loss: 0.1572 - accuracy: 0.9391 - val_loss: 0.4609 - val_accuracy: 0.8810\n",
      "Epoch 37/50\n",
      "1875/1875 [==============================] - 2s 1ms/step - loss: 0.1577 - accuracy: 0.9384 - val_loss: 0.4796 - val_accuracy: 0.8830\n",
      "Epoch 38/50\n",
      "1875/1875 [==============================] - 2s 1ms/step - loss: 0.1549 - accuracy: 0.9395 - val_loss: 0.4549 - val_accuracy: 0.8845\n",
      "Epoch 39/50\n",
      "1875/1875 [==============================] - 2s 1ms/step - loss: 0.1550 - accuracy: 0.9393 - val_loss: 0.4668 - val_accuracy: 0.8851\n",
      "Epoch 40/50\n",
      "1875/1875 [==============================] - 3s 1ms/step - loss: 0.1535 - accuracy: 0.9401 - val_loss: 0.4622 - val_accuracy: 0.8824\n",
      "Epoch 41/50\n",
      "1875/1875 [==============================] - 2s 1ms/step - loss: 0.1558 - accuracy: 0.9391 - val_loss: 0.4540 - val_accuracy: 0.8836\n",
      "Epoch 42/50\n",
      "1875/1875 [==============================] - 2s 1ms/step - loss: 0.1472 - accuracy: 0.9426 - val_loss: 0.4712 - val_accuracy: 0.8861\n",
      "Epoch 43/50\n",
      "1875/1875 [==============================] - 2s 1ms/step - loss: 0.1477 - accuracy: 0.9434 - val_loss: 0.4712 - val_accuracy: 0.8848\n",
      "Epoch 44/50\n",
      "1875/1875 [==============================] - 2s 1ms/step - loss: 0.1467 - accuracy: 0.9427 - val_loss: 0.4990 - val_accuracy: 0.8851\n",
      "Epoch 45/50\n",
      "1875/1875 [==============================] - 2s 1ms/step - loss: 0.1434 - accuracy: 0.9438 - val_loss: 0.5271 - val_accuracy: 0.8826\n",
      "Epoch 46/50\n",
      "1875/1875 [==============================] - 2s 1ms/step - loss: 0.1457 - accuracy: 0.9434 - val_loss: 0.4903 - val_accuracy: 0.8863\n",
      "Epoch 47/50\n",
      "1875/1875 [==============================] - 2s 1ms/step - loss: 0.1436 - accuracy: 0.9446 - val_loss: 0.5096 - val_accuracy: 0.8832\n",
      "Epoch 48/50\n",
      "1875/1875 [==============================] - 2s 1ms/step - loss: 0.1435 - accuracy: 0.9447 - val_loss: 0.5184 - val_accuracy: 0.8843\n",
      "Epoch 49/50\n",
      "1875/1875 [==============================] - 2s 1ms/step - loss: 0.1345 - accuracy: 0.9474 - val_loss: 0.4841 - val_accuracy: 0.8853\n",
      "Epoch 50/50\n",
      "1875/1875 [==============================] - 2s 1ms/step - loss: 0.1397 - accuracy: 0.9470 - val_loss: 0.5179 - val_accuracy: 0.8860\n"
     ]
    }
   ],
   "source": [
    "history = model.fit(train_ds, validation_data = test_ds, epochs = EPOCHS)"
   ]
  },
  {
   "cell_type": "markdown",
   "metadata": {},
   "source": [
    "Visualization using Matplotlib"
   ]
  },
  {
   "cell_type": "code",
   "execution_count": 19,
   "metadata": {},
   "outputs": [
    {
     "data": {
      "image/png": "[encoded data removed]",
      "text/plain": [
       "<Figure size 432x288 with 1 Axes>"
      ]
     },
     "metadata": {
      "needs_background": "light"
     },
     "output_type": "display_data"
    }
   ],
   "source": [
    "loss = history.history['loss']\n",
    "val_loss = history.history['val_loss']\n",
    "\n",
    "plt.figure()\n",
    "plt.plot(loss, 'ro-')\n",
    "plt.plot(val_loss, 'bo-')\n",
    "plt.ylabel('Cross Entropy')\n",
    "plt.xlabel('Epoch')\n",
    "plt.title('Training and Validation Loss')\n",
    "plt.show()"
   ]
  },
  {
   "cell_type": "markdown",
   "metadata": {},
   "source": [
    "Early Stopping Callback"
   ]
  },
  {
   "cell_type": "code",
   "execution_count": 20,
   "metadata": {},
   "outputs": [],
   "source": [
    "earlystopper = tf.keras.callbacks.EarlyStopping(monitor = 'val_loss',\n",
    "                                                patience = 10,\n",
    "                                                verbose = 1)"
   ]
  },
  {
   "cell_type": "markdown",
   "metadata": {},
   "source": [
    "Training using Early Stopping Callback"
   ]
  },
  {
   "cell_type": "code",
   "execution_count": 21,
   "metadata": {},
   "outputs": [
    {
     "name": "stdout",
     "output_type": "stream",
     "text": [
      "Epoch 1/50\n",
      "1875/1875 [==============================] - 2s 1ms/step - loss: 0.1380 - accuracy: 0.9467 - val_loss: 0.5359 - val_accuracy: 0.8853\n",
      "Epoch 2/50\n",
      "1875/1875 [==============================] - 2s 1ms/step - loss: 0.1365 - accuracy: 0.9472 - val_loss: 0.5195 - val_accuracy: 0.8869\n",
      "Epoch 3/50\n",
      "1875/1875 [==============================] - 2s 1ms/step - loss: 0.1322 - accuracy: 0.9482 - val_loss: 0.5524 - val_accuracy: 0.8792\n",
      "Epoch 4/50\n",
      "1875/1875 [==============================] - 2s 1ms/step - loss: 0.1334 - accuracy: 0.9488 - val_loss: 0.5645 - val_accuracy: 0.8803\n",
      "Epoch 5/50\n",
      "1875/1875 [==============================] - 2s 1ms/step - loss: 0.1334 - accuracy: 0.9483 - val_loss: 0.5143 - val_accuracy: 0.8880\n",
      "Epoch 6/50\n",
      "1875/1875 [==============================] - 2s 1ms/step - loss: 0.1324 - accuracy: 0.9492 - val_loss: 0.5267 - val_accuracy: 0.8840\n",
      "Epoch 7/50\n",
      "1875/1875 [==============================] - 2s 1ms/step - loss: 0.1278 - accuracy: 0.9517 - val_loss: 0.5607 - val_accuracy: 0.8833\n",
      "Epoch 8/50\n",
      "1875/1875 [==============================] - 2s 1ms/step - loss: 0.1296 - accuracy: 0.9506 - val_loss: 0.5244 - val_accuracy: 0.8860\n",
      "Epoch 9/50\n",
      "1875/1875 [==============================] - 2s 1ms/step - loss: 0.1271 - accuracy: 0.9510 - val_loss: 0.6031 - val_accuracy: 0.8834\n",
      "Epoch 10/50\n",
      "1875/1875 [==============================] - 2s 1ms/step - loss: 0.1273 - accuracy: 0.9503 - val_loss: 0.5734 - val_accuracy: 0.8846\n",
      "Epoch 11/50\n",
      "1875/1875 [==============================] - 2s 1ms/step - loss: 0.1274 - accuracy: 0.9505 - val_loss: 0.6088 - val_accuracy: 0.8810\n",
      "Epoch 12/50\n",
      "1875/1875 [==============================] - 2s 1ms/step - loss: 0.1224 - accuracy: 0.9522 - val_loss: 0.5832 - val_accuracy: 0.8878\n",
      "Epoch 13/50\n",
      "1875/1875 [==============================] - 2s 1ms/step - loss: 0.1225 - accuracy: 0.9526 - val_loss: 0.5803 - val_accuracy: 0.8838\n",
      "Epoch 14/50\n",
      "1875/1875 [==============================] - 2s 1ms/step - loss: 0.1229 - accuracy: 0.9512 - val_loss: 0.6264 - val_accuracy: 0.8853\n",
      "Epoch 15/50\n",
      "1875/1875 [==============================] - 2s 1ms/step - loss: 0.1240 - accuracy: 0.9522 - val_loss: 0.6322 - val_accuracy: 0.8823\n",
      "Epoch 00015: early stopping\n"
     ]
    }
   ],
   "source": [
    "history = model.fit(train_ds, validation_data = test_ds, epochs = EPOCHS,\n",
    "                   callbacks = [earlystopper])"
   ]
  },
  {
   "cell_type": "markdown",
   "metadata": {},
   "source": [
    "Visualization using Matplotlib"
   ]
  },
  {
   "cell_type": "code",
   "execution_count": 22,
   "metadata": {},
   "outputs": [
    {
     "data": {
      "image/png": "[encoded data removed]",
      "text/plain": [
       "<Figure size 432x288 with 1 Axes>"
      ]
     },
     "metadata": {
      "needs_background": "light"
     },
     "output_type": "display_data"
    }
   ],
   "source": [
    "loss = history.history['loss']\n",
    "val_loss = history.history['val_loss']\n",
    "\n",
    "plt.figure()\n",
    "plt.plot(loss, 'ro-')\n",
    "plt.plot(val_loss, 'bo-')\n",
    "plt.ylabel('Cross Entropy')\n",
    "plt.xlabel('Epoch')\n",
    "plt.title('Training and Validation Loss')\n",
    "plt.show()"
   ]
  },
  {
   "cell_type": "markdown",
   "metadata": {},
   "source": [
    "Applying Dropout"
   ]
  },
  {
   "cell_type": "code",
   "execution_count": 23,
   "metadata": {},
   "outputs": [],
   "source": [
    "class MyModel(tf.keras.Model):\n",
    "    def __init__(self):\n",
    "        super(MyModel, self).__init__()\n",
    "        self.flatten = tf.keras.layers.Flatten()                       # 28x28 = 784\n",
    "        self.dense1 = tf.keras.layers.Dense(64, activation='relu')\n",
    "        self.dense2 = tf.keras.layers.Dense(64, activation='relu')\n",
    "        self.dense3 = tf.keras.layers.Dense(64, activation='relu')\n",
    "        self.dense4 = tf.keras.layers.Dense(128, activation='relu')\n",
    "        self.dropout4 = tf.keras.layers.Dropout(0.5) # applying dropout\n",
    "        self.dense5 = tf.keras.layers.Dense(10, activation='softmax')  # 10\n",
    "\n",
    "    def call(self, x, training=False, mask=None):\n",
    "        h = self.flatten(x)\n",
    "        h = self.dense1(h)\n",
    "        h = self.dense2(h)\n",
    "        h = self.dense3(h)\n",
    "        h = self.dense4(h)\n",
    "        h = self.dropout4(h) # applying dropout\n",
    "        return self.dense5(h)"
   ]
  },
  {
   "cell_type": "markdown",
   "metadata": {},
   "source": [
    "Training"
   ]
  },
  {
   "cell_type": "code",
   "execution_count": 24,
   "metadata": {},
   "outputs": [
    {
     "name": "stdout",
     "output_type": "stream",
     "text": [
      "Epoch 1/50\n",
      "1875/1875 [==============================] - 2s 1ms/step - loss: 0.1202 - accuracy: 0.9535 - val_loss: 0.5906 - val_accuracy: 0.8860\n",
      "Epoch 2/50\n",
      "1875/1875 [==============================] - 2s 1ms/step - loss: 0.1232 - accuracy: 0.9529 - val_loss: 0.6186 - val_accuracy: 0.8825\n",
      "Epoch 3/50\n",
      "1875/1875 [==============================] - 2s 1ms/step - loss: 0.1206 - accuracy: 0.9534 - val_loss: 0.6329 - val_accuracy: 0.8851\n",
      "Epoch 4/50\n",
      "1875/1875 [==============================] - 2s 1ms/step - loss: 0.1166 - accuracy: 0.9558 - val_loss: 0.6418 - val_accuracy: 0.8859\n",
      "Epoch 5/50\n",
      "1875/1875 [==============================] - 2s 1ms/step - loss: 0.1182 - accuracy: 0.9544 - val_loss: 0.5986 - val_accuracy: 0.8836\n",
      "Epoch 6/50\n",
      "1875/1875 [==============================] - 2s 1ms/step - loss: 0.1173 - accuracy: 0.9543 - val_loss: 0.6969 - val_accuracy: 0.8752\n",
      "Epoch 7/50\n",
      "1875/1875 [==============================] - 2s 1ms/step - loss: 0.1163 - accuracy: 0.9545 - val_loss: 0.6735 - val_accuracy: 0.8852\n",
      "Epoch 8/50\n",
      "1875/1875 [==============================] - 2s 1ms/step - loss: 0.1168 - accuracy: 0.9564 - val_loss: 0.6523 - val_accuracy: 0.8767\n",
      "Epoch 9/50\n",
      "1875/1875 [==============================] - 2s 1ms/step - loss: 0.1143 - accuracy: 0.9553 - val_loss: 0.6186 - val_accuracy: 0.8820\n",
      "Epoch 10/50\n",
      "1875/1875 [==============================] - 2s 1ms/step - loss: 0.1118 - accuracy: 0.9572 - val_loss: 0.6474 - val_accuracy: 0.8814\n",
      "Epoch 11/50\n",
      "1875/1875 [==============================] - 2s 1ms/step - loss: 0.1127 - accuracy: 0.9557 - val_loss: 0.6190 - val_accuracy: 0.8850\n",
      "Epoch 00011: early stopping\n"
     ]
    }
   ],
   "source": [
    "history = model.fit(train_ds, validation_data = test_ds, epochs = EPOCHS,\n",
    "                   callbacks = [earlystopper])"
   ]
  },
  {
   "cell_type": "markdown",
   "metadata": {},
   "source": [
    "Visualization using Matplotlib"
   ]
  },
  {
   "cell_type": "code",
   "execution_count": 25,
   "metadata": {},
   "outputs": [
    {
     "data": {
      "image/png": "[encoded data removed]",
      "text/plain": [
       "<Figure size 432x288 with 1 Axes>"
      ]
     },
     "metadata": {
      "needs_background": "light"
     },
     "output_type": "display_data"
    }
   ],
   "source": [
    "loss = history.history['loss']\n",
    "val_loss = history.history['val_loss']\n",
    "\n",
    "plt.figure()\n",
    "plt.plot(loss, 'ro-')\n",
    "plt.plot(val_loss, 'bo-')\n",
    "plt.ylabel('Cross Entropy')\n",
    "plt.xlabel('Epoch')\n",
    "plt.title('Training and Validation Loss')\n",
    "plt.show()"
   ]
  }
 ],
 "metadata": {
  "kernelspec": {
   "display_name": "Python 3 (ipykernel)",
   "language": "python",
   "name": "python3"
  },
  "language_info": {
   "codemirror_mode": {
    "name": "ipython",
    "version": 3
   },
   "file_extension": ".py",
   "mimetype": "text/x-python",
   "name": "python",
   "nbconvert_exporter": "python",
   "pygments_lexer": "ipython3",
   "version": "3.9.5"
  }
 },
 "nbformat": 4,
 "nbformat_minor": 4
}
