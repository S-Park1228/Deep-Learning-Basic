{
 "cells": [
  {
   "cell_type": "markdown",
   "metadata": {},
   "source": [
    "# Deep Learning Development Pipeline\n",
    "---"
   ]
  },
  {
   "attachments": {
    "deep%20learning%20development%20pipeline.png": {
     "image/png": "[encoded data removed]"
    }
   },
   "cell_type": "markdown",
   "metadata": {},
   "source": [
    "![deep%20learning%20development%20pipeline.png](attachment:deep%20learning%20development%20pipeline.png)"
   ]
  },
  {
   "cell_type": "markdown",
   "metadata": {},
   "source": [
    "- It is officially recommended that Keras sequence class need to be used for DataLoader implementation.\n",
    "- This is because it is more appropriate to utilize multi-processing when it comes to Keras sequence class."
   ]
  },
  {
   "cell_type": "markdown",
   "metadata": {},
   "source": [
    "## 1. DataLoader: Sequence Class Example (Official Guide)"
   ]
  },
  {
   "cell_type": "markdown",
   "metadata": {},
   "source": [
    "Example from https://www.tensorflow.org/api_docs/python/tf/keras/utils/Sequence\n",
    "\n",
    "```python\n",
    "class CIFAR10Sequence(Sequence):\n",
    "    \n",
    "    def __init__(self, x_set, y_set, batch_size):\n",
    "        self.x, self.y = x_set, y_set\n",
    "        self.batch_size = batch_size\n",
    "        \n",
    "    def __len__(self):\n",
    "        return math.ceil(len(self.x) / self.batch_size)\n",
    "    \n",
    "    def __getitem__(self, idx):\n",
    "        batch_x = self.x[idx * self.batch_szie:(idx + 1) *\n",
    "                        self.batch_size]\n",
    "        batch_y = self.y[idx * self.batch_size:(idx + 1) *\n",
    "                        self.batch_size]\n",
    "        \n",
    "        return np.array([\n",
    "            resize(imread(file_name), (200, 200))\n",
    "                for file_name in batch_x]), np.array(batch_y)\n",
    "```\n",
    "\n",
    "- `__len__`: Number of batch in the Sequence\n",
    "- `__getitem__`: Returns a complete batch.\n",
    "- `on_epoch_end` (optional): Modifies dataset between epochs."
   ]
  },
  {
   "cell_type": "code",
   "execution_count": null,
   "metadata": {},
   "outputs": [],
   "source": [
    "import math\n",
    "import random\n",
    "\n",
    "import cv2\n",
    "import numpy as np\n",
    "import pandas as pd\n",
    "import matplotlib.pyplot as plt\n",
    "\n",
    "from tensorflow import keras"
   ]
  },
  {
   "cell_type": "code",
   "execution_count": null,
   "metadata": {},
   "outputs": [],
   "source": [
    "class DataGenerator(keras.utils.Sequence):\n",
    "    \n",
    "    def __init__(self, batch_size, csv_path, fold,\n",
    "                 image_size, mode = 'train', shuffle = True):\n",
    "        self.batch_size = batch_size\n",
    "        self.image_size = image_size\n",
    "        self.shuffle = shuffle\n",
    "        self.fold = fold\n",
    "        self.mode = mode\n",
    "        \n",
    "        self.df = pd.read_csv(csv_path)\n",
    "        \n",
    "        if self.mode == 'train':\n",
    "            self.df = self.df[self.df['fold'] != self.fold]\n",
    "        elif self.mode == 'val':\n",
    "            self.df = self.df[self.df['fold'] == self.fold]\n",
    "        \n",
    "        self.on_epoch_end()\n",
    "        \n",
    "    # the number of batches\n",
    "    def __len__(self):\n",
    "        return math.ceil(len(self.df) / self.batch_size)\n",
    "    \n",
    "    def __getitem__(self, idx):\n",
    "        strt = idx * self.batch_size\n",
    "        fin = (idx + 1) * self.batch_size\n",
    "        data = self.df.iloc[strt:fin]\n",
    "        \n",
    "        batch_x, batch_y = self.get_data(data)\n",
    "        \n",
    "        return np.array(batch_x), np.array(batch_y)\n",
    "    \n",
    "    \n",
    "    def get_data(self, data):\n",
    "        \n",
    "        batch_x = []\n",
    "        batch_y = []\n",
    "        \n",
    "        for _, r in data.iterrows():\n",
    "            file_name = r['file_name']\n",
    "            image = cv2.imread(f'data/images/{file_name}.jpg')\n",
    "            # B - R reversal\n",
    "            image = cv2.cvtColor(image, cv2.COLOR_BGR2RGB)\n",
    "            # resizing images\n",
    "            image = cv2.resize(image, (self.image_size, self.image_size))\n",
    "            # rescaling\n",
    "            image = image / 255.\n",
    "            \n",
    "            label = int(r['species']) - 1\n",
    "            \n",
    "            batch_x.append(image)\n",
    "            batch_y.append(label)\n",
    "            \n",
    "        return batch_x, batch_y\n",
    "    \n",
    "    # callback function\n",
    "    def on_epoch_end(self):\n",
    "        if self.shuffle:\n",
    "            self.df = self.df.sample(frac = 1).reset_index(drop = True)"
   ]
  },
  {
   "cell_type": "code",
   "execution_count": null,
   "metadata": {},
   "outputs": [],
   "source": [
    "csv_path = 'data/kfolds.csv'\n",
    "train_generator = DataGenerator(\n",
    "    batch_size = 9,\n",
    "    csv_path = csv_path,\n",
    "    fold = 1,\n",
    "    image_size = 256,\n",
    "    mode = 'train',\n",
    "    shuffle = True\n",
    "    )"
   ]
  },
  {
   "cell_type": "code",
   "execution_count": null,
   "metadata": {},
   "outputs": [],
   "source": [
    "# checking 'len' method\n",
    "print(len(train_generator))\n",
    "print(654 * 9) # 9: batch_size\n",
    "               # training data: 80%"
   ]
  },
  {
   "cell_type": "code",
   "execution_count": null,
   "metadata": {},
   "outputs": [],
   "source": [
    "# checking whether or not data is properly loaded\n",
    "class_name = ['Cat', 'Dog']\n",
    "\n",
    "for batch in train_generator:\n",
    "    X, y = batch\n",
    "    plt.figure(figsize = (15, 15))\n",
    "    for i in range(9):\n",
    "        ax = plt.subplot(3, 3, i + 1)\n",
    "        plt.imshow(X[i])\n",
    "        plt.title(class_name[y[i]])\n",
    "        plt.axis('off')\n",
    "    \n",
    "    break"
   ]
  },
  {
   "cell_type": "markdown",
   "metadata": {},
   "source": [
    "## 2. Model Definition 1 - Sequential Class"
   ]
  },
  {
   "cell_type": "markdown",
   "metadata": {},
   "source": [
    "Sequential class example\n",
    "\\\n",
    "From https://www.tensorflow.org/guid/keras/sequential_model\n",
    "\n",
    "```python\n",
    "# Define Sequential model with 3 layers.\n",
    "model = keras.Sequential(\n",
    "    [\n",
    "        layers.Dense(2, activation = 'relu', name = 'layer1'),\n",
    "        layers.Dense(3, activation = 'relu', name = 'layer2'),\n",
    "        layers.Dense(4, name = 'layer3'),\n",
    "    ]\n",
    ")\n",
    "# Call model on a test input\n",
    "x = tf.ones((3, 3))\n",
    "y = model(x)\n",
    "```\n",
    "\n",
    "A Sequential model is not appropriate when:\n",
    "- Your model has multiple inputs or multiple outputs.\n",
    "- Any of your layers has multiple inputs or multiple outputs.\n",
    "- You need to do layer sharing.\n",
    "- You want non-linear topology (e.g. a residual connection, a multi-branch model)\n"
   ]
  },
  {
   "cell_type": "code",
   "execution_count": null,
   "metadata": {},
   "outputs": [],
   "source": [
    "from tensorflow import keras\n",
    "from tensorflow.keras import layers\n",
    "from tensorflow.keras import activations\n",
    "\n",
    "import os\n",
    "os.environ['CUDA_VISIBLE_DEVICES'] = '1'"
   ]
  },
  {
   "cell_type": "code",
   "execution_count": null,
   "metadata": {},
   "outputs": [],
   "source": [
    "def get_sequential_model(input_shape):\n",
    "    \n",
    "    model = keras.Sequential(\n",
    "        [\n",
    "            # Input\n",
    "            layers.Input(input_shape),\n",
    "            \n",
    "            # the 1st Conv block (a series of layers)\n",
    "            # 64 (# of filters) / 3 (kernel size)\n",
    "            layers.Conv2D(64, 3, strides = 1, activation = 'relu',\n",
    "                         padding = 'same'),\n",
    "            layers.Conv2D(64, 3, strides = 1, activation = 'relu',\n",
    "                         padding = 'same'),\n",
    "            layers.MaxPool2D(),\n",
    "            layers.BatchNormalization(),\n",
    "            layers.Dropout(0.5),\n",
    "            \n",
    "            # the 2nd Conv block\n",
    "            layers.Conv2D(128, 3, strides = 1, activation = 'relu',\n",
    "                         padding = 'same'),\n",
    "            layers.Conv2D(128, 3, strides = 1, activation = 'relu',\n",
    "                         padding = 'same'),\n",
    "            layers.MaxPool2D(),\n",
    "            layers.BatchNormalization(),\n",
    "            layers.Dropout(0.3),\n",
    "            \n",
    "            # Classifier block\n",
    "            layers.GlobalMaxPool2D(),\n",
    "            layers.Dense(128, activation = 'relu'),\n",
    "            layers.Dense(1, activation = 'sigmoid')\n",
    "        ]\n",
    "    )\n",
    "    \n",
    "    return model"
   ]
  },
  {
   "cell_type": "code",
   "execution_count": null,
   "metadata": {},
   "outputs": [],
   "source": [
    "# checking model definition\n",
    "input_shape = (256, 256, 3)\n",
    "model = get_sequential_model(input_shape)\n",
    "\n",
    "model.summary()"
   ]
  },
  {
   "cell_type": "markdown",
   "metadata": {},
   "source": [
    "## 2. Model Definition 2 - Functional Approach"
   ]
  },
  {
   "cell_type": "code",
   "execution_count": null,
   "metadata": {},
   "outputs": [],
   "source": [
    "# No restrictions in contrast to Sequntial Class approach\n",
    "# It is the same as Sequential Class approach in that\n",
    "# users have to set input tensor.\n",
    "# Users must store the results from every layer and\n",
    "# deliver them to the subsequent layer manually.\n",
    "def get_functional_model(input_shape):\n",
    "    inputs = keras.Input(input_shape)\n",
    "    \n",
    "    # the 1st Conv block\n",
    "    x = layers.Conv2D(64, 3, strides = 1, activation = 'relu',\n",
    "                      padding = 'same')(inputs)\n",
    "    x = layers.Conv2D(64, 3, strides = 1, activation = 'relu',\n",
    "                      padding = 'same')(x)\n",
    "    x = layers.MaxPool2D()(x)\n",
    "    x = layers.BatchNormalization()(x)\n",
    "    x = layers.Dropout(0.5)(x)\n",
    "    \n",
    "    # the 2nd Conv block\n",
    "    x = layers.Conv2D(128, 3, strides = 1, activation = 'relu',\n",
    "                      padding = 'same')(x)\n",
    "    x = layers.Conv2D(128, 3, strides = 1, activation = 'relu',\n",
    "                      padding = 'same')(x)\n",
    "    x = layers.MaxPool2D()(x)\n",
    "    x = layers.BatchNormalization()(x)\n",
    "    x = layers.Dropout(0.3)(x)\n",
    "    \n",
    "    # Classifier block\n",
    "    x = layers.GlobalMaxPool2D()(x)\n",
    "    x = layers.Dense(128, activation = 'relu')(x)\n",
    "    outputs = layers.Dense(1, activation = 'sigmoid')(x)\n",
    "    \n",
    "    model = keras.Model(inputs, outputs)\n",
    "    \n",
    "    return model"
   ]
  },
  {
   "cell_type": "code",
   "execution_count": null,
   "metadata": {},
   "outputs": [],
   "source": [
    "input_shape = (256, 256, 3)\n",
    "model = get_functional_model(input_shape)\n",
    "\n",
    "model.summary()"
   ]
  },
  {
   "cell_type": "markdown",
   "metadata": {},
   "source": [
    "## 2. Model Definition 3 - Model Subclassing"
   ]
  },
  {
   "cell_type": "markdown",
   "metadata": {},
   "source": [
    "- It exposes built-in training, evaluation, and prediction loops `(model.fit(), model.evaluate(), model.predict())`.\n",
    "- It exposes the list of its inner layers, via the model.layers property.\n",
    "- It exposes saving and serialization APIs `(save(), save_weights()`...)."
   ]
  },
  {
   "cell_type": "code",
   "execution_count": null,
   "metadata": {},
   "outputs": [],
   "source": [
    "class SimpleCNN(keras.Model):\n",
    "    def __init__(self):\n",
    "        super(SimpleCNN, self).__init__()\n",
    "        \n",
    "        # the 1st conv block\n",
    "        self.conv_block_1 = keras.Sequential(\n",
    "            [\n",
    "                layers.Conv2D(64, 3, strides = 1, activation = 'relu',\n",
    "                             padding = 'same'),\n",
    "                layers.Conv2D(64, 3, strides = 1, activation = 'relu',\n",
    "                             padding = 'same'),\n",
    "                layers.MaxPool2D(),\n",
    "                layers.BatchNormalization(),\n",
    "                layers.Dropout(0.5)\n",
    "            ], name = 'conv_block_1'\n",
    "        )\n",
    "        \n",
    "        # the 2nd conv block\n",
    "        self.conv_block_2 = keras.Sequential(\n",
    "            [\n",
    "                layers.Conv2D(128, 3, strides = 1, activation = 'relu',\n",
    "                             padding = 'same'),\n",
    "                layers.Conv2D(128, 3, strides = 1, activation = 'relu',\n",
    "                             padding = 'same'),\n",
    "                layers.MaxPool2D(),\n",
    "                layers.BatchNormalization(),\n",
    "                layers.Dropout(0.3)                \n",
    "            ], name = 'conv_block_2'\n",
    "        )\n",
    "        \n",
    "        # Classifier block\n",
    "        self.classifier = keras.Sequential(\n",
    "            [\n",
    "                layers.GlobalMaxPool2D(),\n",
    "                layers.Dense(128, activation = 'relu'),\n",
    "                layers.Dense(1, activation = 'sigmoid')\n",
    "            ], name = 'classifier'\n",
    "        )\n",
    "    \n",
    "    # training flag: to differently designate instructions\n",
    "    # such as dropout or batchnormalization\n",
    "    # whether a dataset is training or test\n",
    "    def call(self, input_tensor, training = False):\n",
    "        x = self.conv_block_1(input_tensor)\n",
    "        x = self.conv_block_2(x)\n",
    "        return self.classifier(x)"
   ]
  },
  {
   "cell_type": "code",
   "execution_count": null,
   "metadata": {},
   "outputs": [],
   "source": [
    "input_shape = (None, 256, 256, 3) # None: batch axis\n",
    "model = SimpleCNN()\n",
    "# due to absence of input layer definition in the above cell...\n",
    "model.build(input_shape)\n",
    "\n",
    "model.summary()"
   ]
  },
  {
   "cell_type": "markdown",
   "metadata": {},
   "source": [
    "### Model Compiling"
   ]
  },
  {
   "cell_type": "code",
   "execution_count": null,
   "metadata": {},
   "outputs": [],
   "source": [
    "model.compile(\n",
    "    optimizer = 'adam',\n",
    "    loss = 'binary_crossentropy',\n",
    "    metrics = 'accuracy'\n",
    ")"
   ]
  },
  {
   "cell_type": "markdown",
   "metadata": {},
   "source": [
    "## 3. Training Script"
   ]
  },
  {
   "cell_type": "code",
   "execution_count": null,
   "metadata": {},
   "outputs": [],
   "source": [
    "import os\n",
    "import math\n",
    "\n",
    "import cv2\n",
    "import numpy as np\n",
    "import pandas as pd\n",
    "import tensorflow as tf\n",
    "\n",
    "from tensorflow import keras\n",
    "from tensorflow.keras import layers\n",
    "from tensorflow.keras import activations\n",
    "\n",
    "os.environ['CUDA_VISIBLE_DEVICES'] = '1'"
   ]
  },
  {
   "cell_type": "markdown",
   "metadata": {},
   "source": [
    "There exist some errors when reading Oxford-IIT Pets Data."
   ]
  },
  {
   "cell_type": "code",
   "execution_count": null,
   "metadata": {},
   "outputs": [],
   "source": [
    "class DataGenerator(keras.utils.Sequence):\n",
    "    def __init__(self, batch_size, csv_path, image_size,\n",
    "                 fold, mode = 'train', shuffle = True):\n",
    "        self.batch_size = batch_size\n",
    "        self.image_size = image_size\n",
    "        self.shuffle = shuffle\n",
    "        self.fold = fold\n",
    "        self.mode = mode\n",
    "\n",
    "        self.df = pd.read_csv(csv_path)\n",
    "\n",
    "        if self.mode == 'train':\n",
    "            self.df = self.df[self.df['fold'] != self.fold]\n",
    "        elif self.mode == 'val':\n",
    "            self.df = self.df[self.df['fold'] == self.fold]\n",
    "\n",
    "        #### Remove invalid files.\n",
    "        #### https://github.com/tensorflow/models/issues/3134\n",
    "        invalid_filenames = [\n",
    "            'Egyptian_Mau_14',\n",
    "            'Egyptian_Mau_139',\n",
    "            'Egyptian_Mau_144',\n",
    "            'Egyptian_Mau_156',\n",
    "            'Egyptian_Mau_167',\n",
    "            'Egyptian_Mau_177',\n",
    "            'Egyptian_Mau_186',\n",
    "            'Egyptian_Mau_191'\n",
    "            'Abyssinian_5',\n",
    "            'Abyssinian_34',\n",
    "            'chihuahua_121',\n",
    "            'beagle_116'\n",
    "        ]\n",
    "        self.df = self.df[-self.df['file_name']. \\\n",
    "                        isin(invalid_filenames)]\n",
    "        self.on_epoch_end()\n",
    "\n",
    "    def __len__(self):\n",
    "        return math.ceil(len(self.df) / self.batch_size)\n",
    "    \n",
    "    def __getitem__(self, idx):\n",
    "        strt = idx * self.batch_size\n",
    "        fin = (idx + 1) * self.batch_size\n",
    "        data = self.df.iloc[strt:fin]\n",
    "        \n",
    "        batch_x, batch_y = self.get_data(data)\n",
    "        \n",
    "        return np.array(batch_x), np.array(batch_y)\n",
    "    \n",
    "    def get_data(self, data):\n",
    "        batch_x = []\n",
    "        batch_y = []\n",
    "        \n",
    "        for _, r in data.iterrows():\n",
    "            file_name = r['file_name']\n",
    "            \n",
    "            image = cv2.imread(f'data/images/{file_name}.jpg')\n",
    "            image = cv2.cvtColor(image, cv2.COLOR_BGR2RGB)\n",
    "            \n",
    "            image = cv2.resize(image, (self.image_size, self.image_size))\n",
    "            image = image / 255.\n",
    "            \n",
    "            label = int(r['species']) - 1\n",
    "            \n",
    "            batch_x.append(image)\n",
    "            batch_y.append(label)\n",
    "            \n",
    "        return batch_x, batch_y\n",
    "    \n",
    "    def on_epoch_end(self):\n",
    "        if self.shuffle:\n",
    "            self.df = self.df.sample(frac = 1).reset_index(drop = True)"
   ]
  },
  {
   "cell_type": "code",
   "execution_count": null,
   "metadata": {},
   "outputs": [],
   "source": [
    "csv_path = 'data/kfolds.csv'\n",
    "train_generator = DataGenerator(\n",
    "    fold = 1,\n",
    "    mode = 'train',\n",
    "    csv_path = csv_path,\n",
    "    batch_size = 128,\n",
    "    image_size = 256,\n",
    "    shuffle = True)\n",
    "\n",
    "valid_generator = DataGenerator(\n",
    "    fold = 1,\n",
    "    mode = 'val',\n",
    "    csv_path = csv_path,\n",
    "    batch_size = 128,\n",
    "    image_size = 256,\n",
    "    shuffle = True)"
   ]
  },
  {
   "cell_type": "markdown",
   "metadata": {},
   "source": [
    "## Callback Functions"
   ]
  },
  {
   "cell_type": "markdown",
   "metadata": {},
   "source": [
    "The functions which are called in particular situations...\n",
    "\n",
    "```python\n",
    "callbacks = tf.keras.callbacks.CallbackList([...])\n",
    "callbacks.append(...)\n",
    "\n",
    "callbacks.on_train_begin(...)\n",
    "for epoch in range(EPOCHS):\n",
    "    calbacks.on_epoch_begin(epoch)\n",
    "    for i, data in dataset.enumerate():\n",
    "        callbacks.on_train_batch_begin(i)\n",
    "        batch_logs = model.train_step(data)\n",
    "        callbacks.on_train_batch_end(i, batch_logs)\n",
    "    epoch_logs = ...\n",
    "    callbacks.on_epoch_end(epoch, epoch_logs)\n",
    "final_logs = ...\n",
    "callbacks.on_train_end(final_logs)\n",
    "```\n",
    "\n",
    "Typical Callback Functions\n",
    "- `on_train_begin`\n",
    "- `on_epoch_begin`\n",
    "- `on_train_batch_begin`\n",
    "- `on_train_batch_end`\n",
    "- `on_epoch_end`\n",
    "\n",
    "\n",
    "- `keras.Model.fit()`\n",
    "- `keras.Model.evaluate()`\n",
    "- `keras.Model.predict()`"
   ]
  },
  {
   "cell_type": "code",
   "execution_count": null,
   "metadata": {},
   "outputs": [],
   "source": [
    "# Callback function example 1\n",
    "# EarlyStopping: stops training if performance is not improved any more\n",
    "# for given epochs.\n",
    "early_stopping = tf.keras.callbacks.EarlyStopping(\n",
    "    monitor = 'val_loss', patience = 3, verbose = 1,\n",
    "    mode = 'min', restore_best_weights = False\n",
    ")\n"
   ]
  },
  {
   "cell_type": "code",
   "execution_count": null,
   "metadata": {},
   "outputs": [],
   "source": [
    "# Callback function example 2\n",
    "# ReduceLROnPlateau: reduces a learning rate if performance is not\n",
    "# improved any more for given epochs. (a sort of learning rate scheduler)\n",
    "reduce_on_plateau = tf.keras.callbacks.ReduceLROnPlateau(\n",
    "    monitor = 'val_loss', factor = 0.1, patience = 10, verbose = 1,\n",
    "    mode = 'min', min_lr = 0.001\n",
    ")"
   ]
  },
  {
   "cell_type": "code",
   "execution_count": null,
   "metadata": {},
   "outputs": [],
   "source": [
    "# Callback function example 3\n",
    "# ModelCheckpoint: saves a model.\n",
    "filepath = '{epoch:02d} - {val_loss:.2f}.hdf5'\n",
    "model_checkpoint = tf.keras.callbacks.ModelCheckpoint(\n",
    "    filepath, monitor = 'val_loss', verbose = 1, save_best_only = True,\n",
    "    save_weights_only = False, mode = 'min') # save_weights_only = False\n",
    "                                             # -> saving including\n",
    "                                             # a model structure"
   ]
  },
  {
   "cell_type": "code",
   "execution_count": null,
   "metadata": {},
   "outputs": [],
   "source": [
    "history = model.fit(\n",
    "    train_generator,\n",
    "    validation_data = valid_generator,\n",
    "    epochs = 10,\n",
    "    callbacks = [\n",
    "        early_stopping,\n",
    "        reduce_on_plateau,\n",
    "        model_checkpoint\n",
    "    ],\n",
    "    verbose = 1\n",
    ")"
   ]
  },
  {
   "cell_type": "code",
   "execution_count": null,
   "metadata": {},
   "outputs": [],
   "source": [
    "history.history"
   ]
  },
  {
   "cell_type": "code",
   "execution_count": null,
   "metadata": {},
   "outputs": [],
   "source": [
    "import matplotlib.pyplot as plt\n",
    "history = history.history\n",
    "\n",
    "plt.figure(figsize = (15, 5))\n",
    "plt.subplot(1, 2, 1)\n",
    "plt.plot(history['loss'], label = 'train')\n",
    "plt.plot(history['val_loss'], label = 'val')\n",
    "plt.legend()\n",
    "plt.xlabel('epoch')\n",
    "plt.ylabel('loss')\n",
    "plt.title('Loss')\n",
    "\n",
    "plt.subplot(1, 2, 2)\n",
    "plt.plot(history['accuracy'], label = 'train')\n",
    "plt.plot(history['val_accuracy'], label = 'val')\n",
    "plt.legend()\n",
    "plt.xlabel('epoch')\n",
    "plt.ylabel('accuracy')\n",
    "plt.title('Accuracy')\n",
    "plt.show()"
   ]
  },
  {
   "cell_type": "code",
   "execution_count": null,
   "metadata": {},
   "outputs": [],
   "source": []
  },
  {
   "cell_type": "code",
   "execution_count": null,
   "metadata": {},
   "outputs": [],
   "source": []
  },
  {
   "cell_type": "code",
   "execution_count": null,
   "metadata": {},
   "outputs": [],
   "source": []
  }
 ],
 "metadata": {
  "kernelspec": {
   "display_name": "Python 3 (ipykernel)",
   "language": "python",
   "name": "python3"
  },
  "language_info": {
   "codemirror_mode": {
    "name": "ipython",
    "version": 3
   },
   "file_extension": ".py",
   "mimetype": "text/x-python",
   "name": "python",
   "nbconvert_exporter": "python",
   "pygments_lexer": "ipython3",
   "version": "3.9.5"
  }
 },
 "nbformat": 4,
 "nbformat_minor": 4
}
