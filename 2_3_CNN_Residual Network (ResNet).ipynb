{
 "cells": [
  {
   "cell_type": "markdown",
   "metadata": {},
   "source": [
    "# Residual Network (ResNet)\n",
    "---"
   ]
  },
  {
   "cell_type": "code",
   "execution_count": 1,
   "metadata": {},
   "outputs": [],
   "source": [
    "import tensorflow as tf\n",
    "import numpy as np"
   ]
  },
  {
   "cell_type": "markdown",
   "metadata": {},
   "source": [
    "## Hyperparameters"
   ]
  },
  {
   "cell_type": "code",
   "execution_count": 3,
   "metadata": {},
   "outputs": [],
   "source": [
    "EPOCHS = 10"
   ]
  },
  {
   "cell_type": "markdown",
   "metadata": {},
   "source": [
    "## Residual Unit"
   ]
  },
  {
   "cell_type": "code",
   "execution_count": 4,
   "metadata": {},
   "outputs": [],
   "source": [
    "class ResidualUnit(tf.keras.Model):\n",
    "    def __init__(self, filter_in, filter_out, kernel_size):\n",
    "        super(ResidualUnit, self).__init__()\n",
    "        self.bn1 = tf.keras.layers.BatchNormalization()\n",
    "        # no activation\n",
    "        self.conv1 = tf.keras.layers.Conv2D(filter_out, kernel_size,\n",
    "                                            padding = 'same')\n",
    "        \n",
    "        self.bn2 = tf.keras.layers.BatchNormalization()\n",
    "        self.conv2 = tf.keras.layers.Conv2D(filter_out, kernel_size,\n",
    "                                            padding = 'same')\n",
    "        \n",
    "        if filter_in == filter_out:\n",
    "            self.identity = lambda x: x\n",
    "        else:\n",
    "            self.identity = tf.keras.layers.Conv2D(filter_out, (1, 1),\n",
    "                                                  padding = 'same')\n",
    "        \n",
    "    def call(self, x, training = False, mask = None):\n",
    "        h = self.bn1(x, training = training)\n",
    "        h = tf.nn.relu(h)\n",
    "        h = self.conv1(h)\n",
    "        \n",
    "        h = self.bn2(h, training = training)\n",
    "        h = tf.nn.relu(h)\n",
    "        h = self.conv2(h)\n",
    "        return self.identity(x) + h        "
   ]
  },
  {
   "cell_type": "markdown",
   "metadata": {},
   "source": [
    "## Residual Layer"
   ]
  },
  {
   "cell_type": "code",
   "execution_count": 5,
   "metadata": {},
   "outputs": [],
   "source": [
    "class ResnetLayer(tf.keras.Model):\n",
    "    def __init__(self, filter_in, filters, kernel_size):\n",
    "        super(ResnetLayer, self).__init__()\n",
    "        self.sequence = list()\n",
    "        # [a] + [b, b, b] -> [a, b, b, b]\n",
    "        # for f_in, f_out zip([a, b, b, b], [b, b, b]):\n",
    "        #     the first iteration: f_in, f_out -> a, b\n",
    "        #     the second iteration: f_in, f_out -> b, b\n",
    "        #     the third iteration: f_in, f_out -> b, b (the end of the iteration)\n",
    "        for f_in, f_out in zip([filter_in] + list(filters), filters):\n",
    "            self.sequence.append(ResidualUnit(f_in, f_out, kernel_size))\n",
    "        \n",
    "    def call(self, x, training = False, mask = None):\n",
    "        for unit in self.sequence:\n",
    "            # 'training = training' due to Batch Normalization in Residual Unit\n",
    "            x = unit(x, training = training)\n",
    "        return x"
   ]
  },
  {
   "cell_type": "markdown",
   "metadata": {},
   "source": [
    "## Model Definition"
   ]
  },
  {
   "cell_type": "code",
   "execution_count": 6,
   "metadata": {},
   "outputs": [],
   "source": [
    "class ResNet(tf.keras.Model):\n",
    "    def __init__(self):\n",
    "        super(ResNet, self).__init__()\n",
    "        # 28 X 28 X 8\n",
    "        self.conv1 = tf.keras.layers.Conv2D(8, (3, 3), padding = 'same',\n",
    "                                          activation = 'relu')\n",
    "        # 28 X 28 X 16\n",
    "        self.res1 = ResnetLayer(8, (16, 16), (3, 3))\n",
    "        # 14 X 14 X 16\n",
    "        self.pool1 = tf.keras.layers.MaxPool2D((2, 2))\n",
    "        \n",
    "        # 14 X 14 X 32\n",
    "        self.res2 = ResnetLayer(16, (32, 32), (3, 3))\n",
    "        # 7 X 7 X 32\n",
    "        self.pool2 = tf.keras.layers.MaxPool2D((2, 2))\n",
    "        \n",
    "        # 7 X 7 X 64\n",
    "        self.res3 = ResnetLayer(32, (64, 64), (3, 3))\n",
    "        \n",
    "        self.flattened = tf.keras.layers.Flatten()\n",
    "        self.dense1 = tf.keras.layers.Dense(128, activation = 'relu')\n",
    "        self.dense2 = tf.keras.layers.Dense(10, activation = 'softmax')\n",
    "        \n",
    "    def call(self, x, training = False, mask = None):\n",
    "        x = self.conv1(x)\n",
    "        \n",
    "        x = self.res1(x, training = training)\n",
    "        x = self.pool1(x)\n",
    "        x = self.res2(x, training = training)\n",
    "        x = self.pool2(x)\n",
    "        x = self.res3(x, training = training)\n",
    "        \n",
    "        x = self.flattened(x)\n",
    "        x = self.dense1(x)\n",
    "        return self.dense2(x)"
   ]
  },
  {
   "cell_type": "markdown",
   "metadata": {},
   "source": [
    "## Training and Test Loops"
   ]
  },
  {
   "cell_type": "code",
   "execution_count": 7,
   "metadata": {},
   "outputs": [],
   "source": [
    "@tf.function\n",
    "def train_step(model, images, labels, loss_object, optimizer, train_loss, train_accuracy):\n",
    "    with tf.GradientTape() as tape:\n",
    "        predictions = model(images, training = True)\n",
    "        loss = loss_object(labels, predictions)\n",
    "    gradients = tape.gradient(loss, model.trainable_variables)\n",
    "    \n",
    "    optimizer.apply_gradients(zip(gradients, model.trainable_variables))\n",
    "    train_loss(loss)\n",
    "    train_accuracy(labels, predictions)\n",
    "    \n",
    "@tf.function\n",
    "def test_step(model, test_images, test_labels, loss_object, test_loss, test_accuracy):\n",
    "    predictions = model(test_images, training = False)\n",
    "    t_loss = loss_object(test_labels, predictions)\n",
    "    \n",
    "    test_loss(t_loss)\n",
    "    test_accuracy(test_labels, predictions)"
   ]
  },
  {
   "cell_type": "markdown",
   "metadata": {},
   "source": [
    "## Dataset"
   ]
  },
  {
   "cell_type": "code",
   "execution_count": 8,
   "metadata": {},
   "outputs": [],
   "source": [
    "mnist = tf.keras.datasets.mnist\n",
    "\n",
    "(x_train, y_train), (x_test, y_test) = mnist.load_data()\n",
    "x_train, x_test = x_train / 255.0, x_test / 255.0\n",
    "\n",
    "x_train = x_train[..., tf.newaxis].astype(np.float32)\n",
    "x_test = x_test[..., tf.newaxis].astype(np.float32)\n",
    "\n",
    "train_ds = tf.data.Dataset.from_tensor_slices((x_train, y_train)).shuffle(10000).batch(32)\n",
    "test_ds = tf.data.Dataset.from_tensor_slices((x_test, y_test)).batch(32)"
   ]
  },
  {
   "cell_type": "markdown",
   "metadata": {},
   "source": [
    "## Training Environment"
   ]
  },
  {
   "cell_type": "code",
   "execution_count": 9,
   "metadata": {},
   "outputs": [],
   "source": [
    "# Creating a model\n",
    "model = ResNet()\n",
    "\n",
    "# Loss Function\n",
    "loss_object = tf.keras.losses.SparseCategoricalCrossentropy()\n",
    "\n",
    "# Optimization Algorithm\n",
    "optimizer = tf.keras.optimizers.Adam()\n",
    "\n",
    "# Evaluation Metrics\n",
    "train_loss = tf.keras.metrics.Mean(name = 'train_loss')\n",
    "train_accuracy = tf.keras.metrics.SparseCategoricalAccuracy(name = 'train_accuracy')\n",
    "test_loss = tf.keras.metrics.Mean(name = 'test_loss')\n",
    "test_accuracy = tf.keras.metrics.SparseCategoricalAccuracy(name = 'test_accuracy')"
   ]
  },
  {
   "cell_type": "markdown",
   "metadata": {},
   "source": [
    "## Training"
   ]
  },
  {
   "cell_type": "code",
   "execution_count": 10,
   "metadata": {},
   "outputs": [
    {
     "name": "stdout",
     "output_type": "stream",
     "text": [
      "Epoch 1, Loss: 0.14129793643951416, Accuracy: 95.95333099365234, Test Loss: 0.12351010739803314, Test Accuracy: 97.3699951171875\n",
      "Epoch 2, Loss: 0.06706684082746506, Accuracy: 98.15999603271484, Test Loss: 0.06344202905893326, Test Accuracy: 98.0999984741211\n",
      "Epoch 3, Loss: 0.04806279391050339, Accuracy: 98.63333129882812, Test Loss: 0.032933108508586884, Test Accuracy: 99.06999969482422\n",
      "Epoch 4, Loss: 0.04380128160119057, Accuracy: 98.81500244140625, Test Loss: 0.033341001719236374, Test Accuracy: 98.98999786376953\n",
      "Epoch 5, Loss: 0.03269747272133827, Accuracy: 99.0566635131836, Test Loss: 0.033529091626405716, Test Accuracy: 99.0999984741211\n",
      "Epoch 6, Loss: 0.02923729456961155, Accuracy: 99.19166564941406, Test Loss: 0.0588400661945343, Test Accuracy: 98.3499984741211\n",
      "Epoch 7, Loss: 0.02437620237469673, Accuracy: 99.30500030517578, Test Loss: 0.04999667778611183, Test Accuracy: 98.94000244140625\n",
      "Epoch 8, Loss: 0.023697517812252045, Accuracy: 99.3316650390625, Test Loss: 0.06781790405511856, Test Accuracy: 98.5199966430664\n",
      "Epoch 9, Loss: 0.022337796166539192, Accuracy: 99.37333679199219, Test Loss: 0.06573979556560516, Test Accuracy: 98.62999725341797\n",
      "Epoch 10, Loss: 0.01976233907043934, Accuracy: 99.461669921875, Test Loss: 0.04183042049407959, Test Accuracy: 99.04999542236328\n"
     ]
    }
   ],
   "source": [
    "for epoch in range(EPOCHS):\n",
    "    for images, labels in train_ds:\n",
    "        train_step(model, images, labels, loss_object, optimizer,\n",
    "                   train_loss, train_accuracy)\n",
    "        \n",
    "    for test_images, test_labels in test_ds:\n",
    "        test_step(model, test_images, test_labels, loss_object,\n",
    "                  test_loss, test_accuracy)\n",
    "        \n",
    "    print(f'Epoch {epoch + 1}, ' +\n",
    "         f'Loss: {train_loss.result()}, ' +\n",
    "         f'Accuracy: {train_accuracy.result() * 100}, ' +\n",
    "         f'Test Loss: {test_loss.result()}, ' +\n",
    "         f'Test Accuracy: {test_accuracy.result() * 100}')\n",
    "    train_loss.reset_states()\n",
    "    train_accuracy.reset_states()\n",
    "    test_loss.reset_states()\n",
    "    test_accuracy.reset_states()"
   ]
  },
  {
   "cell_type": "code",
   "execution_count": null,
   "metadata": {},
   "outputs": [],
   "source": []
  },
  {
   "cell_type": "code",
   "execution_count": null,
   "metadata": {},
   "outputs": [],
   "source": []
  }
 ],
 "metadata": {
  "kernelspec": {
   "display_name": "Python 3 (ipykernel)",
   "language": "python",
   "name": "python3"
  },
  "language_info": {
   "codemirror_mode": {
    "name": "ipython",
    "version": 3
   },
   "file_extension": ".py",
   "mimetype": "text/x-python",
   "name": "python",
   "nbconvert_exporter": "python",
   "pygments_lexer": "ipython3",
   "version": "3.9.5"
  }
 },
 "nbformat": 4,
 "nbformat_minor": 4
}
