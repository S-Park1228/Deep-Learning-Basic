{
 "cells": [
  {
   "cell_type": "markdown",
   "metadata": {},
   "source": [
    "# DensNet\n",
    "---"
   ]
  },
  {
   "cell_type": "code",
   "execution_count": 1,
   "metadata": {},
   "outputs": [],
   "source": [
    "import tensorflow as tf\n",
    "import numpy as np"
   ]
  },
  {
   "cell_type": "markdown",
   "metadata": {},
   "source": [
    "## Hyperparameters"
   ]
  },
  {
   "cell_type": "code",
   "execution_count": 2,
   "metadata": {},
   "outputs": [],
   "source": [
    "EPOCHS = 10"
   ]
  },
  {
   "cell_type": "markdown",
   "metadata": {},
   "source": [
    "## DenseUnit"
   ]
  },
  {
   "cell_type": "code",
   "execution_count": 3,
   "metadata": {},
   "outputs": [],
   "source": [
    "class DenseUnit(tf.keras.Model):\n",
    "    def __init__(self, filter_out, kernel_size):\n",
    "        super(DenseUnit, self).__init__()\n",
    "        self.bn = tf.keras.layers.BatchNormalization()\n",
    "        self.conv = tf.keras.layers.Conv2D(filter_out, kernel_size,\n",
    "                                          padding = 'same')\n",
    "        self.concat = tf.keras.layers.Concatenate()\n",
    "        \n",
    "    def call(self, x, training = False, mask = None): # (Batch, H, W, Ch_in)\n",
    "        h = self.bn(x, training = training)\n",
    "        h = tf.nn.relu(h)\n",
    "        h = self.conv(h) # h: (Batch, H, W, filter_output)\n",
    "        return self.concat([x, h]) # (Batch, H, W, Ch_in + filter_output)"
   ]
  },
  {
   "cell_type": "markdown",
   "metadata": {},
   "source": [
    "## DenseLayer"
   ]
  },
  {
   "cell_type": "code",
   "execution_count": 4,
   "metadata": {},
   "outputs": [],
   "source": [
    "class DenseLayer(tf.keras.Model):\n",
    "    def __init__(self, num_unit, growth_rate, kernel_size):\n",
    "        super(DenseLayer, self).__init__()\n",
    "        self.sequence = list()\n",
    "        for idx in range(num_unit):\n",
    "            self.sequence.append(DenseUnit(growth_rate, kernel_size))\n",
    "        \n",
    "    def call(self, x, training = False, mask = None):\n",
    "        for unit in self.sequence:\n",
    "            x = unit(x, training = training)\n",
    "        return x"
   ]
  },
  {
   "cell_type": "markdown",
   "metadata": {},
   "source": [
    "## Transition Layer"
   ]
  },
  {
   "cell_type": "code",
   "execution_count": 5,
   "metadata": {},
   "outputs": [],
   "source": [
    "class TransitionLayer(tf.keras.Model):\n",
    "    def __init__(self, filters, kernel_size):\n",
    "        super(TransitionLayer, self).__init__()\n",
    "        self.conv = tf.keras.layers.Conv2D(filters, kernel_size,\n",
    "                                          padding = 'same')\n",
    "        self.pool = tf.keras.layers.MaxPool2D()\n",
    "        \n",
    "    def call(self, x, training = False, mask = None):\n",
    "        x = self.conv(x)\n",
    "        return self.pool(x)"
   ]
  },
  {
   "cell_type": "markdown",
   "metadata": {},
   "source": [
    "## Model"
   ]
  },
  {
   "cell_type": "code",
   "execution_count": 6,
   "metadata": {},
   "outputs": [],
   "source": [
    "class DenseNet(tf.keras.Model):\n",
    "    def __init__(self):\n",
    "        super(DenseNet, self).__init__()\n",
    "        # 28 X 28 X 8\n",
    "        self.conv1 = tf.keras.layers.Conv2D(8, (3, 3), padding = 'same',\n",
    "                                           activation = 'relu')\n",
    "        # 28 X 28 X 16\n",
    "        self.dl1 = DenseLayer(2, 4, (3, 3))\n",
    "        # 14 X 14 X 16\n",
    "        self.tr1 = TransitionLayer(16, (3, 3))\n",
    "        \n",
    "        # 14 X 14 X 32\n",
    "        self.dl2 = DenseLayer(2, 8, (3, 3))\n",
    "        # 7 X 7 X 32\n",
    "        self.tr2 = TransitionLayer(32, (3, 3))\n",
    "        \n",
    "        # 7 X 7 X 64\n",
    "        self.dl3 = DenseLayer(2, 16, (3, 3))\n",
    "        \n",
    "        self.flattened = tf.keras.layers.Flatten()\n",
    "        self.dense1 = tf.keras.layers.Dense(128, activation = 'relu')\n",
    "        self.dense2 = tf.keras.layers.Dense(10, activation = 'softmax')\n",
    "        \n",
    "    def call(self, x, training = False, mask = None):\n",
    "        x = self.conv1(x)\n",
    "        \n",
    "        x = self.dl1(x, training = training)\n",
    "        x = self.tr1(x)\n",
    "        \n",
    "        x = self.dl2(x, training = training)\n",
    "        x = self.tr2(x)\n",
    "        \n",
    "        x = self.dl3(x, training = training)\n",
    "        \n",
    "        x = self.flattened(x)\n",
    "        x = self.dense1(x)\n",
    "        return self.dense2(x)"
   ]
  },
  {
   "cell_type": "markdown",
   "metadata": {},
   "source": [
    "## Training and Test Loops"
   ]
  },
  {
   "cell_type": "code",
   "execution_count": 7,
   "metadata": {},
   "outputs": [],
   "source": [
    "@tf.function\n",
    "def train_step(model, images, labels, loss_object, optimizer, train_loss, train_accuracy):\n",
    "    with tf.GradientTape() as tape:\n",
    "        predictions = model(images, training = True)\n",
    "        loss = loss_object(labels, predictions)\n",
    "    gradients = tape.gradient(loss, model.trainable_variables)\n",
    "    \n",
    "    optimizer.apply_gradients(zip(gradients, model.trainable_variables))\n",
    "    train_loss(loss)\n",
    "    train_accuracy(labels, predictions)\n",
    "    \n",
    "@tf.function\n",
    "def test_step(model, test_images, test_labels, loss_object, test_loss, test_accuracy):\n",
    "    predictions = model(test_images, training = False)\n",
    "    t_loss = loss_object(test_labels, predictions)\n",
    "    \n",
    "    test_loss(t_loss)\n",
    "    test_accuracy(test_labels, predictions)"
   ]
  },
  {
   "cell_type": "markdown",
   "metadata": {},
   "source": [
    "## Dataset"
   ]
  },
  {
   "cell_type": "code",
   "execution_count": 8,
   "metadata": {},
   "outputs": [],
   "source": [
    "mnist = tf.keras.datasets.mnist\n",
    "\n",
    "(x_train, y_train), (x_test, y_test) = mnist.load_data()\n",
    "x_train, x_test = x_train / 255.0, x_test / 255.0\n",
    "\n",
    "x_train = x_train[..., tf.newaxis].astype(np.float32)\n",
    "x_test = x_test[..., tf.newaxis].astype(np.float32)\n",
    "\n",
    "train_ds = tf.data.Dataset.from_tensor_slices((x_train, y_train)).shuffle(10000).batch(32)\n",
    "test_ds = tf.data.Dataset.from_tensor_slices((x_test, y_test)).batch(32)"
   ]
  },
  {
   "cell_type": "markdown",
   "metadata": {},
   "source": [
    "## Training Environment"
   ]
  },
  {
   "cell_type": "code",
   "execution_count": 9,
   "metadata": {},
   "outputs": [],
   "source": [
    "# Creating a model\n",
    "model = DenseNet()\n",
    "\n",
    "# Loss Function\n",
    "loss_object = tf.keras.losses.SparseCategoricalCrossentropy()\n",
    "\n",
    "# Optimization Algorithm\n",
    "optimizer = tf.keras.optimizers.Adam()\n",
    "\n",
    "# Evaluation Metrics\n",
    "train_loss = tf.keras.metrics.Mean(name = 'train_loss')\n",
    "train_accuracy = tf.keras.metrics.SparseCategoricalAccuracy(name = 'train_accuracy')\n",
    "test_loss = tf.keras.metrics.Mean(name = 'test_loss')\n",
    "test_accuracy = tf.keras.metrics.SparseCategoricalAccuracy(name = 'test_accuracy')"
   ]
  },
  {
   "cell_type": "markdown",
   "metadata": {},
   "source": [
    "## Training"
   ]
  },
  {
   "cell_type": "code",
   "execution_count": 10,
   "metadata": {},
   "outputs": [
    {
     "name": "stdout",
     "output_type": "stream",
     "text": [
      "Epoch 1, Loss: 0.11624883115291595, Accuracy: 96.45166015625, Test Loss: 0.08343023806810379, Test Accuracy: 97.48999786376953\n",
      "Epoch 2, Loss: 0.05719474330544472, Accuracy: 98.34832763671875, Test Loss: 0.0844055786728859, Test Accuracy: 97.75999450683594\n",
      "Epoch 3, Loss: 0.04723915085196495, Accuracy: 98.65166473388672, Test Loss: 0.08393025398254395, Test Accuracy: 97.97999572753906\n",
      "Epoch 4, Loss: 0.03860418125987053, Accuracy: 98.86666870117188, Test Loss: 0.04223977401852608, Test Accuracy: 98.8699951171875\n",
      "Epoch 5, Loss: 0.037367191165685654, Accuracy: 98.961669921875, Test Loss: 0.0545039027929306, Test Accuracy: 98.66999816894531\n",
      "Epoch 6, Loss: 0.02900741994380951, Accuracy: 99.15833282470703, Test Loss: 0.07778466492891312, Test Accuracy: 98.50999450683594\n",
      "Epoch 7, Loss: 0.027331821620464325, Accuracy: 99.2550048828125, Test Loss: 0.06474492698907852, Test Accuracy: 98.76000213623047\n",
      "Epoch 8, Loss: 0.024351460859179497, Accuracy: 99.34500122070312, Test Loss: 0.06305981427431107, Test Accuracy: 98.80999755859375\n",
      "Epoch 9, Loss: 0.025738582015037537, Accuracy: 99.3133316040039, Test Loss: 0.06558801233768463, Test Accuracy: 98.70999908447266\n",
      "Epoch 10, Loss: 0.02331778034567833, Accuracy: 99.39666748046875, Test Loss: 0.06639114767313004, Test Accuracy: 98.79999542236328\n"
     ]
    }
   ],
   "source": [
    "for epoch in range(EPOCHS):\n",
    "    for images, labels in train_ds:\n",
    "        train_step(model, images, labels, loss_object, optimizer,\n",
    "                   train_loss, train_accuracy)\n",
    "        \n",
    "    for test_images, test_labels in test_ds:\n",
    "        test_step(model, test_images, test_labels, loss_object,\n",
    "                  test_loss, test_accuracy)\n",
    "        \n",
    "    print(f'Epoch {epoch + 1}, ' +\n",
    "         f'Loss: {train_loss.result()}, ' +\n",
    "         f'Accuracy: {train_accuracy.result() * 100}, ' +\n",
    "         f'Test Loss: {test_loss.result()}, ' +\n",
    "         f'Test Accuracy: {test_accuracy.result() * 100}')\n",
    "    train_loss.reset_states()\n",
    "    train_accuracy.reset_states()\n",
    "    test_loss.reset_states()\n",
    "    test_accuracy.reset_states()"
   ]
  },
  {
   "cell_type": "code",
   "execution_count": null,
   "metadata": {},
   "outputs": [],
   "source": []
  }
 ],
 "metadata": {
  "kernelspec": {
   "display_name": "Python 3 (ipykernel)",
   "language": "python",
   "name": "python3"
  },
  "language_info": {
   "codemirror_mode": {
    "name": "ipython",
    "version": 3
   },
   "file_extension": ".py",
   "mimetype": "text/x-python",
   "name": "python",
   "nbconvert_exporter": "python",
   "pygments_lexer": "ipython3",
   "version": "3.9.5"
  }
 },
 "nbformat": 4,
 "nbformat_minor": 4
}
